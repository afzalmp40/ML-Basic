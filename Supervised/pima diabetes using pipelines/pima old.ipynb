{
 "cells": [
  {
   "cell_type": "code",
   "execution_count": 1,
   "id": "14ecada1-1978-4c39-9bc7-7f9481e4ed9c",
   "metadata": {},
   "outputs": [],
   "source": [
    "import pandas as pd\n",
    "import numpy as np\n",
    "import matplotlib.pyplot as plt\n",
    "import seaborn as sns\n",
    "\n",
    "from sklearn.linear_model import LogisticRegression\n",
    "from sklearn.tree import DecisionTreeClassifier\n",
    "from sklearn.ensemble import RandomForestClassifier, AdaBoostClassifier, GradientBoostingClassifier\n",
    "from sklearn.svm import SVC\n",
    "from sklearn.naive_bayes import GaussianNB\n",
    "from sklearn.neighbors import KNeighborsClassifier, RadiusNeighborsClassifier\n",
    "\n",
    "from xgboost import XGBClassifier\n",
    "\n",
    "from sklearn.model_selection import train_test_split, cross_val_score\n",
    "\n",
    "from sklearn.metrics import classification_report, f1_score, confusion_matrix\n",
    "\n",
    "from sklearn.preprocessing import MinMaxScaler, OneHotEncoder\n",
    "\n",
    "from sklearn.pipeline import Pipeline\n",
    "\n",
    "import matplotlib.style as style\n",
    "style.use(\"seaborn-darkgrid\")"
   ]
  },
  {
   "cell_type": "markdown",
   "id": "65737b67-422a-4d13-b172-b23c09df7279",
   "metadata": {
    "id": "65737b67-422a-4d13-b172-b23c09df7279",
    "tags": []
   },
   "source": [
    "# dataset basic info"
   ]
  },
  {
   "cell_type": "markdown",
   "id": "9628e296-a301-40d4-8cc3-65d5bad2d37f",
   "metadata": {
    "id": "9628e296-a301-40d4-8cc3-65d5bad2d37f",
    "tags": []
   },
   "source": [
    "### About pima diabetes dataset"
   ]
  },
  {
   "cell_type": "markdown",
   "id": "50279225-d675-4976-b935-08de1c4c6fb1",
   "metadata": {
    "id": "50279225-d675-4976-b935-08de1c4c6fb1",
    "tags": []
   },
   "source": [
    "This dataset is originally from the National Institute of Diabetes and Digestive and Kidney Diseases. The objective of the dataset is to diagnostically predict whether or not a patient has diabetes, based on certain diagnostic measurements included in the dataset. Several constraints were placed on the selection of these instances from a larger database. In particular, all patients here are females at least 21 years old of Pima Indian heritage.\n",
    "\n",
    "#### Content:\n",
    "The datasets consists of several medical predictor variables and one target variable, Outcome. Predictor variables includes the number of pregnancies the patient has had, their BMI, insulin level, age, and so on.\n",
    "The datasets consist of several medical predictor (independent) variables and one target (dependent) variable, Outcome. Independent variables include the number of pregnancies the patient has had, their BMI, insulin level, age, and so on."
   ]
  },
  {
   "cell_type": "markdown",
   "id": "ae4c1511-ba6d-4fe7-b469-30b304ec9dee",
   "metadata": {
    "id": "ae4c1511-ba6d-4fe7-b469-30b304ec9dee",
    "tags": []
   },
   "source": [
    "### loading dataset"
   ]
  },
  {
   "cell_type": "code",
   "execution_count": 2,
   "id": "dd2c8c13-bb30-460c-a8fa-839beaa2e2db",
   "metadata": {
    "colab": {
     "base_uri": "https://localhost:8080/",
     "height": 456
    },
    "executionInfo": {
     "elapsed": 18,
     "status": "ok",
     "timestamp": 1656427335731,
     "user": {
      "displayName": "Afzal Qureshi",
      "userId": "07647317251768315234"
     },
     "user_tz": -330
    },
    "id": "dd2c8c13-bb30-460c-a8fa-839beaa2e2db",
    "outputId": "e3b77fe8-481c-48cd-e706-5b5cf098f12c"
   },
   "outputs": [
    {
     "data": {
      "text/html": [
       "<div>\n",
       "<style scoped>\n",
       "    .dataframe tbody tr th:only-of-type {\n",
       "        vertical-align: middle;\n",
       "    }\n",
       "\n",
       "    .dataframe tbody tr th {\n",
       "        vertical-align: top;\n",
       "    }\n",
       "\n",
       "    .dataframe thead th {\n",
       "        text-align: right;\n",
       "    }\n",
       "</style>\n",
       "<table border=\"1\" class=\"dataframe\">\n",
       "  <thead>\n",
       "    <tr style=\"text-align: right;\">\n",
       "      <th></th>\n",
       "      <th>Pregnancies</th>\n",
       "      <th>Glucose</th>\n",
       "      <th>BloodPressure</th>\n",
       "      <th>SkinThickness</th>\n",
       "      <th>Insulin</th>\n",
       "      <th>BMI</th>\n",
       "      <th>DiabetesPedigreeFunction</th>\n",
       "      <th>Age</th>\n",
       "      <th>Outcome</th>\n",
       "    </tr>\n",
       "  </thead>\n",
       "  <tbody>\n",
       "    <tr>\n",
       "      <th>0</th>\n",
       "      <td>6</td>\n",
       "      <td>148</td>\n",
       "      <td>72</td>\n",
       "      <td>35</td>\n",
       "      <td>0</td>\n",
       "      <td>33.6</td>\n",
       "      <td>0.627</td>\n",
       "      <td>50</td>\n",
       "      <td>1</td>\n",
       "    </tr>\n",
       "    <tr>\n",
       "      <th>1</th>\n",
       "      <td>1</td>\n",
       "      <td>85</td>\n",
       "      <td>66</td>\n",
       "      <td>29</td>\n",
       "      <td>0</td>\n",
       "      <td>26.6</td>\n",
       "      <td>0.351</td>\n",
       "      <td>31</td>\n",
       "      <td>0</td>\n",
       "    </tr>\n",
       "    <tr>\n",
       "      <th>2</th>\n",
       "      <td>8</td>\n",
       "      <td>183</td>\n",
       "      <td>64</td>\n",
       "      <td>0</td>\n",
       "      <td>0</td>\n",
       "      <td>23.3</td>\n",
       "      <td>0.672</td>\n",
       "      <td>32</td>\n",
       "      <td>1</td>\n",
       "    </tr>\n",
       "    <tr>\n",
       "      <th>3</th>\n",
       "      <td>1</td>\n",
       "      <td>89</td>\n",
       "      <td>66</td>\n",
       "      <td>23</td>\n",
       "      <td>94</td>\n",
       "      <td>28.1</td>\n",
       "      <td>0.167</td>\n",
       "      <td>21</td>\n",
       "      <td>0</td>\n",
       "    </tr>\n",
       "    <tr>\n",
       "      <th>4</th>\n",
       "      <td>0</td>\n",
       "      <td>137</td>\n",
       "      <td>40</td>\n",
       "      <td>35</td>\n",
       "      <td>168</td>\n",
       "      <td>43.1</td>\n",
       "      <td>2.288</td>\n",
       "      <td>33</td>\n",
       "      <td>1</td>\n",
       "    </tr>\n",
       "    <tr>\n",
       "      <th>...</th>\n",
       "      <td>...</td>\n",
       "      <td>...</td>\n",
       "      <td>...</td>\n",
       "      <td>...</td>\n",
       "      <td>...</td>\n",
       "      <td>...</td>\n",
       "      <td>...</td>\n",
       "      <td>...</td>\n",
       "      <td>...</td>\n",
       "    </tr>\n",
       "    <tr>\n",
       "      <th>763</th>\n",
       "      <td>10</td>\n",
       "      <td>101</td>\n",
       "      <td>76</td>\n",
       "      <td>48</td>\n",
       "      <td>180</td>\n",
       "      <td>32.9</td>\n",
       "      <td>0.171</td>\n",
       "      <td>63</td>\n",
       "      <td>0</td>\n",
       "    </tr>\n",
       "    <tr>\n",
       "      <th>764</th>\n",
       "      <td>2</td>\n",
       "      <td>122</td>\n",
       "      <td>70</td>\n",
       "      <td>27</td>\n",
       "      <td>0</td>\n",
       "      <td>36.8</td>\n",
       "      <td>0.340</td>\n",
       "      <td>27</td>\n",
       "      <td>0</td>\n",
       "    </tr>\n",
       "    <tr>\n",
       "      <th>765</th>\n",
       "      <td>5</td>\n",
       "      <td>121</td>\n",
       "      <td>72</td>\n",
       "      <td>23</td>\n",
       "      <td>112</td>\n",
       "      <td>26.2</td>\n",
       "      <td>0.245</td>\n",
       "      <td>30</td>\n",
       "      <td>0</td>\n",
       "    </tr>\n",
       "    <tr>\n",
       "      <th>766</th>\n",
       "      <td>1</td>\n",
       "      <td>126</td>\n",
       "      <td>60</td>\n",
       "      <td>0</td>\n",
       "      <td>0</td>\n",
       "      <td>30.1</td>\n",
       "      <td>0.349</td>\n",
       "      <td>47</td>\n",
       "      <td>1</td>\n",
       "    </tr>\n",
       "    <tr>\n",
       "      <th>767</th>\n",
       "      <td>1</td>\n",
       "      <td>93</td>\n",
       "      <td>70</td>\n",
       "      <td>31</td>\n",
       "      <td>0</td>\n",
       "      <td>30.4</td>\n",
       "      <td>0.315</td>\n",
       "      <td>23</td>\n",
       "      <td>0</td>\n",
       "    </tr>\n",
       "  </tbody>\n",
       "</table>\n",
       "<p>768 rows × 9 columns</p>\n",
       "</div>"
      ],
      "text/plain": [
       "     Pregnancies  Glucose  BloodPressure  SkinThickness  Insulin   BMI  \\\n",
       "0              6      148             72             35        0  33.6   \n",
       "1              1       85             66             29        0  26.6   \n",
       "2              8      183             64              0        0  23.3   \n",
       "3              1       89             66             23       94  28.1   \n",
       "4              0      137             40             35      168  43.1   \n",
       "..           ...      ...            ...            ...      ...   ...   \n",
       "763           10      101             76             48      180  32.9   \n",
       "764            2      122             70             27        0  36.8   \n",
       "765            5      121             72             23      112  26.2   \n",
       "766            1      126             60              0        0  30.1   \n",
       "767            1       93             70             31        0  30.4   \n",
       "\n",
       "     DiabetesPedigreeFunction  Age  Outcome  \n",
       "0                       0.627   50        1  \n",
       "1                       0.351   31        0  \n",
       "2                       0.672   32        1  \n",
       "3                       0.167   21        0  \n",
       "4                       2.288   33        1  \n",
       "..                        ...  ...      ...  \n",
       "763                     0.171   63        0  \n",
       "764                     0.340   27        0  \n",
       "765                     0.245   30        0  \n",
       "766                     0.349   47        1  \n",
       "767                     0.315   23        0  \n",
       "\n",
       "[768 rows x 9 columns]"
      ]
     },
     "execution_count": 2,
     "metadata": {},
     "output_type": "execute_result"
    }
   ],
   "source": [
    "df=pd.read_csv('PIMA_diabetes.csv')\n",
    "df"
   ]
  },
  {
   "cell_type": "markdown",
   "id": "9a57bdba-79c9-4833-9ae5-3fc6970f9d83",
   "metadata": {
    "id": "9a57bdba-79c9-4833-9ae5-3fc6970f9d83",
    "tags": []
   },
   "source": [
    "### Basic info "
   ]
  },
  {
   "cell_type": "code",
   "execution_count": 3,
   "id": "ec228f95-6810-4b13-a3bb-9cb5ebc3f1d3",
   "metadata": {
    "colab": {
     "base_uri": "https://localhost:8080/",
     "height": 322
    },
    "executionInfo": {
     "elapsed": 16,
     "status": "ok",
     "timestamp": 1656427335732,
     "user": {
      "displayName": "Afzal Qureshi",
      "userId": "07647317251768315234"
     },
     "user_tz": -330
    },
    "id": "ec228f95-6810-4b13-a3bb-9cb5ebc3f1d3",
    "outputId": "8522eb50-9e3b-44fe-9675-79a5b0864548"
   },
   "outputs": [
    {
     "data": {
      "text/html": [
       "<div>\n",
       "<style scoped>\n",
       "    .dataframe tbody tr th:only-of-type {\n",
       "        vertical-align: middle;\n",
       "    }\n",
       "\n",
       "    .dataframe tbody tr th {\n",
       "        vertical-align: top;\n",
       "    }\n",
       "\n",
       "    .dataframe thead th {\n",
       "        text-align: right;\n",
       "    }\n",
       "</style>\n",
       "<table border=\"1\" class=\"dataframe\">\n",
       "  <thead>\n",
       "    <tr style=\"text-align: right;\">\n",
       "      <th></th>\n",
       "      <th>Pregnancies</th>\n",
       "      <th>Glucose</th>\n",
       "      <th>BloodPressure</th>\n",
       "      <th>SkinThickness</th>\n",
       "      <th>Insulin</th>\n",
       "      <th>BMI</th>\n",
       "      <th>DiabetesPedigreeFunction</th>\n",
       "      <th>Age</th>\n",
       "      <th>Outcome</th>\n",
       "    </tr>\n",
       "  </thead>\n",
       "  <tbody>\n",
       "    <tr>\n",
       "      <th>count</th>\n",
       "      <td>768.000000</td>\n",
       "      <td>768.000000</td>\n",
       "      <td>768.000000</td>\n",
       "      <td>768.000000</td>\n",
       "      <td>768.000000</td>\n",
       "      <td>768.000000</td>\n",
       "      <td>768.000000</td>\n",
       "      <td>768.000000</td>\n",
       "      <td>768.000000</td>\n",
       "    </tr>\n",
       "    <tr>\n",
       "      <th>mean</th>\n",
       "      <td>3.845052</td>\n",
       "      <td>120.894531</td>\n",
       "      <td>69.105469</td>\n",
       "      <td>20.536458</td>\n",
       "      <td>79.799479</td>\n",
       "      <td>31.992578</td>\n",
       "      <td>0.471876</td>\n",
       "      <td>33.240885</td>\n",
       "      <td>0.348958</td>\n",
       "    </tr>\n",
       "    <tr>\n",
       "      <th>std</th>\n",
       "      <td>3.369578</td>\n",
       "      <td>31.972618</td>\n",
       "      <td>19.355807</td>\n",
       "      <td>15.952218</td>\n",
       "      <td>115.244002</td>\n",
       "      <td>7.884160</td>\n",
       "      <td>0.331329</td>\n",
       "      <td>11.760232</td>\n",
       "      <td>0.476951</td>\n",
       "    </tr>\n",
       "    <tr>\n",
       "      <th>min</th>\n",
       "      <td>0.000000</td>\n",
       "      <td>0.000000</td>\n",
       "      <td>0.000000</td>\n",
       "      <td>0.000000</td>\n",
       "      <td>0.000000</td>\n",
       "      <td>0.000000</td>\n",
       "      <td>0.078000</td>\n",
       "      <td>21.000000</td>\n",
       "      <td>0.000000</td>\n",
       "    </tr>\n",
       "    <tr>\n",
       "      <th>25%</th>\n",
       "      <td>1.000000</td>\n",
       "      <td>99.000000</td>\n",
       "      <td>62.000000</td>\n",
       "      <td>0.000000</td>\n",
       "      <td>0.000000</td>\n",
       "      <td>27.300000</td>\n",
       "      <td>0.243750</td>\n",
       "      <td>24.000000</td>\n",
       "      <td>0.000000</td>\n",
       "    </tr>\n",
       "    <tr>\n",
       "      <th>50%</th>\n",
       "      <td>3.000000</td>\n",
       "      <td>117.000000</td>\n",
       "      <td>72.000000</td>\n",
       "      <td>23.000000</td>\n",
       "      <td>30.500000</td>\n",
       "      <td>32.000000</td>\n",
       "      <td>0.372500</td>\n",
       "      <td>29.000000</td>\n",
       "      <td>0.000000</td>\n",
       "    </tr>\n",
       "    <tr>\n",
       "      <th>75%</th>\n",
       "      <td>6.000000</td>\n",
       "      <td>140.250000</td>\n",
       "      <td>80.000000</td>\n",
       "      <td>32.000000</td>\n",
       "      <td>127.250000</td>\n",
       "      <td>36.600000</td>\n",
       "      <td>0.626250</td>\n",
       "      <td>41.000000</td>\n",
       "      <td>1.000000</td>\n",
       "    </tr>\n",
       "    <tr>\n",
       "      <th>max</th>\n",
       "      <td>17.000000</td>\n",
       "      <td>199.000000</td>\n",
       "      <td>122.000000</td>\n",
       "      <td>99.000000</td>\n",
       "      <td>846.000000</td>\n",
       "      <td>67.100000</td>\n",
       "      <td>2.420000</td>\n",
       "      <td>81.000000</td>\n",
       "      <td>1.000000</td>\n",
       "    </tr>\n",
       "  </tbody>\n",
       "</table>\n",
       "</div>"
      ],
      "text/plain": [
       "       Pregnancies     Glucose  BloodPressure  SkinThickness     Insulin  \\\n",
       "count   768.000000  768.000000     768.000000     768.000000  768.000000   \n",
       "mean      3.845052  120.894531      69.105469      20.536458   79.799479   \n",
       "std       3.369578   31.972618      19.355807      15.952218  115.244002   \n",
       "min       0.000000    0.000000       0.000000       0.000000    0.000000   \n",
       "25%       1.000000   99.000000      62.000000       0.000000    0.000000   \n",
       "50%       3.000000  117.000000      72.000000      23.000000   30.500000   \n",
       "75%       6.000000  140.250000      80.000000      32.000000  127.250000   \n",
       "max      17.000000  199.000000     122.000000      99.000000  846.000000   \n",
       "\n",
       "              BMI  DiabetesPedigreeFunction         Age     Outcome  \n",
       "count  768.000000                768.000000  768.000000  768.000000  \n",
       "mean    31.992578                  0.471876   33.240885    0.348958  \n",
       "std      7.884160                  0.331329   11.760232    0.476951  \n",
       "min      0.000000                  0.078000   21.000000    0.000000  \n",
       "25%     27.300000                  0.243750   24.000000    0.000000  \n",
       "50%     32.000000                  0.372500   29.000000    0.000000  \n",
       "75%     36.600000                  0.626250   41.000000    1.000000  \n",
       "max     67.100000                  2.420000   81.000000    1.000000  "
      ]
     },
     "execution_count": 3,
     "metadata": {},
     "output_type": "execute_result"
    }
   ],
   "source": [
    "df.describe()"
   ]
  },
  {
   "cell_type": "code",
   "execution_count": 4,
   "id": "28280151-08d2-4e42-aabd-3e380b205760",
   "metadata": {
    "colab": {
     "base_uri": "https://localhost:8080/"
    },
    "executionInfo": {
     "elapsed": 15,
     "status": "ok",
     "timestamp": 1656427335733,
     "user": {
      "displayName": "Afzal Qureshi",
      "userId": "07647317251768315234"
     },
     "user_tz": -330
    },
    "id": "28280151-08d2-4e42-aabd-3e380b205760",
    "outputId": "136375a2-606a-4397-e226-1a0dcff1d770"
   },
   "outputs": [
    {
     "name": "stdout",
     "output_type": "stream",
     "text": [
      "<class 'pandas.core.frame.DataFrame'>\n",
      "RangeIndex: 768 entries, 0 to 767\n",
      "Data columns (total 9 columns):\n",
      " #   Column                    Non-Null Count  Dtype  \n",
      "---  ------                    --------------  -----  \n",
      " 0   Pregnancies               768 non-null    int64  \n",
      " 1   Glucose                   768 non-null    int64  \n",
      " 2   BloodPressure             768 non-null    int64  \n",
      " 3   SkinThickness             768 non-null    int64  \n",
      " 4   Insulin                   768 non-null    int64  \n",
      " 5   BMI                       768 non-null    float64\n",
      " 6   DiabetesPedigreeFunction  768 non-null    float64\n",
      " 7   Age                       768 non-null    int64  \n",
      " 8   Outcome                   768 non-null    int64  \n",
      "dtypes: float64(2), int64(7)\n",
      "memory usage: 54.1 KB\n"
     ]
    }
   ],
   "source": [
    "df.info()"
   ]
  },
  {
   "cell_type": "code",
   "execution_count": 5,
   "id": "53346183-f4e2-42a7-9c7c-3909f1343884",
   "metadata": {
    "colab": {
     "base_uri": "https://localhost:8080/",
     "height": 607
    },
    "executionInfo": {
     "elapsed": 2901,
     "status": "ok",
     "timestamp": 1656427338623,
     "user": {
      "displayName": "Afzal Qureshi",
      "userId": "07647317251768315234"
     },
     "user_tz": -330
    },
    "id": "53346183-f4e2-42a7-9c7c-3909f1343884",
    "outputId": "b7bc0ffe-4d71-40ea-8742-4ebf4804325a"
   },
   "outputs": [
    {
     "data": {
      "image/png": "[encoded data removed]",
      "text/plain": [
       "<Figure size 1440x720 with 9 Axes>"
      ]
     },
     "metadata": {
      "needs_background": "light"
     },
     "output_type": "display_data"
    }
   ],
   "source": [
    "df.hist(figsize=(20,10))\n",
    "plt.show()"
   ]
  },
  {
   "cell_type": "code",
   "execution_count": 6,
   "id": "1929df5b-9c7d-432d-aca8-01b0cd1ff144",
   "metadata": {
    "colab": {
     "base_uri": "https://localhost:8080/",
     "height": 790
    },
    "executionInfo": {
     "elapsed": 4013,
     "status": "ok",
     "timestamp": 1656427342633,
     "user": {
      "displayName": "Afzal Qureshi",
      "userId": "07647317251768315234"
     },
     "user_tz": -330
    },
    "id": "1929df5b-9c7d-432d-aca8-01b0cd1ff144",
    "outputId": "c66c0c0f-6af2-4b30-e565-40182a2d35c4"
   },
   "outputs": [
    {
     "data": {
      "image/png": "[encoded data removed]",
      "text/plain": [
       "<Figure size 2300x1000 with 4 Axes>"
      ]
     },
     "metadata": {
      "needs_background": "light"
     },
     "output_type": "display_data"
    }
   ],
   "source": [
    "fig , ax= plt.subplots(1,2, figsize=(23,10), dpi=100)\n",
    "\n",
    "pearson=df.corr()\n",
    "ax[0].set_title('pearson')\n",
    "sns.heatmap(pearson, cmap='YlGnBu', square=True, annot=True, ax=ax[0])\n",
    "\n",
    "spearman=df.corr(method='spearman')\n",
    "ax[1].set_title('spearman')\n",
    "sns.heatmap(spearman, cmap='YlGnBu', square=True, annot=True, ax=ax[1])\n",
    "\n",
    "plt.show()"
   ]
  },
  {
   "cell_type": "markdown",
   "id": "791755d8-60ed-4e12-9df3-a5b952adb683",
   "metadata": {
    "id": "791755d8-60ed-4e12-9df3-a5b952adb683",
    "tags": []
   },
   "source": [
    "##### Separating features and label"
   ]
  },
  {
   "cell_type": "code",
   "execution_count": 7,
   "id": "62c1448b-1e51-4993-bf2d-a3a059f357d9",
   "metadata": {
    "colab": {
     "base_uri": "https://localhost:8080/",
     "height": 520
    },
    "executionInfo": {
     "elapsed": 35,
     "status": "ok",
     "timestamp": 1656427342640,
     "user": {
      "displayName": "Afzal Qureshi",
      "userId": "07647317251768315234"
     },
     "user_tz": -330
    },
    "id": "62c1448b-1e51-4993-bf2d-a3a059f357d9",
    "outputId": "af72fa00-34eb-4ab4-9e22-6ad0017f6109"
   },
   "outputs": [
    {
     "data": {
      "text/html": [
       "<div>\n",
       "<style scoped>\n",
       "    .dataframe tbody tr th:only-of-type {\n",
       "        vertical-align: middle;\n",
       "    }\n",
       "\n",
       "    .dataframe tbody tr th {\n",
       "        vertical-align: top;\n",
       "    }\n",
       "\n",
       "    .dataframe thead th {\n",
       "        text-align: right;\n",
       "    }\n",
       "</style>\n",
       "<table border=\"1\" class=\"dataframe\">\n",
       "  <thead>\n",
       "    <tr style=\"text-align: right;\">\n",
       "      <th></th>\n",
       "      <th>Pregnancies</th>\n",
       "      <th>Glucose</th>\n",
       "      <th>BloodPressure</th>\n",
       "      <th>SkinThickness</th>\n",
       "      <th>Insulin</th>\n",
       "      <th>BMI</th>\n",
       "      <th>DiabetesPedigreeFunction</th>\n",
       "      <th>Age</th>\n",
       "    </tr>\n",
       "  </thead>\n",
       "  <tbody>\n",
       "    <tr>\n",
       "      <th>0</th>\n",
       "      <td>6</td>\n",
       "      <td>148</td>\n",
       "      <td>72</td>\n",
       "      <td>35</td>\n",
       "      <td>0</td>\n",
       "      <td>33.6</td>\n",
       "      <td>0.627</td>\n",
       "      <td>50</td>\n",
       "    </tr>\n",
       "    <tr>\n",
       "      <th>1</th>\n",
       "      <td>1</td>\n",
       "      <td>85</td>\n",
       "      <td>66</td>\n",
       "      <td>29</td>\n",
       "      <td>0</td>\n",
       "      <td>26.6</td>\n",
       "      <td>0.351</td>\n",
       "      <td>31</td>\n",
       "    </tr>\n",
       "    <tr>\n",
       "      <th>2</th>\n",
       "      <td>8</td>\n",
       "      <td>183</td>\n",
       "      <td>64</td>\n",
       "      <td>0</td>\n",
       "      <td>0</td>\n",
       "      <td>23.3</td>\n",
       "      <td>0.672</td>\n",
       "      <td>32</td>\n",
       "    </tr>\n",
       "    <tr>\n",
       "      <th>3</th>\n",
       "      <td>1</td>\n",
       "      <td>89</td>\n",
       "      <td>66</td>\n",
       "      <td>23</td>\n",
       "      <td>94</td>\n",
       "      <td>28.1</td>\n",
       "      <td>0.167</td>\n",
       "      <td>21</td>\n",
       "    </tr>\n",
       "    <tr>\n",
       "      <th>4</th>\n",
       "      <td>0</td>\n",
       "      <td>137</td>\n",
       "      <td>40</td>\n",
       "      <td>35</td>\n",
       "      <td>168</td>\n",
       "      <td>43.1</td>\n",
       "      <td>2.288</td>\n",
       "      <td>33</td>\n",
       "    </tr>\n",
       "    <tr>\n",
       "      <th>...</th>\n",
       "      <td>...</td>\n",
       "      <td>...</td>\n",
       "      <td>...</td>\n",
       "      <td>...</td>\n",
       "      <td>...</td>\n",
       "      <td>...</td>\n",
       "      <td>...</td>\n",
       "      <td>...</td>\n",
       "    </tr>\n",
       "    <tr>\n",
       "      <th>763</th>\n",
       "      <td>10</td>\n",
       "      <td>101</td>\n",
       "      <td>76</td>\n",
       "      <td>48</td>\n",
       "      <td>180</td>\n",
       "      <td>32.9</td>\n",
       "      <td>0.171</td>\n",
       "      <td>63</td>\n",
       "    </tr>\n",
       "    <tr>\n",
       "      <th>764</th>\n",
       "      <td>2</td>\n",
       "      <td>122</td>\n",
       "      <td>70</td>\n",
       "      <td>27</td>\n",
       "      <td>0</td>\n",
       "      <td>36.8</td>\n",
       "      <td>0.340</td>\n",
       "      <td>27</td>\n",
       "    </tr>\n",
       "    <tr>\n",
       "      <th>765</th>\n",
       "      <td>5</td>\n",
       "      <td>121</td>\n",
       "      <td>72</td>\n",
       "      <td>23</td>\n",
       "      <td>112</td>\n",
       "      <td>26.2</td>\n",
       "      <td>0.245</td>\n",
       "      <td>30</td>\n",
       "    </tr>\n",
       "    <tr>\n",
       "      <th>766</th>\n",
       "      <td>1</td>\n",
       "      <td>126</td>\n",
       "      <td>60</td>\n",
       "      <td>0</td>\n",
       "      <td>0</td>\n",
       "      <td>30.1</td>\n",
       "      <td>0.349</td>\n",
       "      <td>47</td>\n",
       "    </tr>\n",
       "    <tr>\n",
       "      <th>767</th>\n",
       "      <td>1</td>\n",
       "      <td>93</td>\n",
       "      <td>70</td>\n",
       "      <td>31</td>\n",
       "      <td>0</td>\n",
       "      <td>30.4</td>\n",
       "      <td>0.315</td>\n",
       "      <td>23</td>\n",
       "    </tr>\n",
       "  </tbody>\n",
       "</table>\n",
       "<p>768 rows × 8 columns</p>\n",
       "</div>"
      ],
      "text/plain": [
       "     Pregnancies  Glucose  BloodPressure  SkinThickness  Insulin   BMI  \\\n",
       "0              6      148             72             35        0  33.6   \n",
       "1              1       85             66             29        0  26.6   \n",
       "2              8      183             64              0        0  23.3   \n",
       "3              1       89             66             23       94  28.1   \n",
       "4              0      137             40             35      168  43.1   \n",
       "..           ...      ...            ...            ...      ...   ...   \n",
       "763           10      101             76             48      180  32.9   \n",
       "764            2      122             70             27        0  36.8   \n",
       "765            5      121             72             23      112  26.2   \n",
       "766            1      126             60              0        0  30.1   \n",
       "767            1       93             70             31        0  30.4   \n",
       "\n",
       "     DiabetesPedigreeFunction  Age  \n",
       "0                       0.627   50  \n",
       "1                       0.351   31  \n",
       "2                       0.672   32  \n",
       "3                       0.167   21  \n",
       "4                       2.288   33  \n",
       "..                        ...  ...  \n",
       "763                     0.171   63  \n",
       "764                     0.340   27  \n",
       "765                     0.245   30  \n",
       "766                     0.349   47  \n",
       "767                     0.315   23  \n",
       "\n",
       "[768 rows x 8 columns]"
      ]
     },
     "execution_count": 7,
     "metadata": {},
     "output_type": "execute_result"
    }
   ],
   "source": [
    "X=df.drop('Outcome',axis=1)\n",
    "y=df.Outcome\n",
    "X"
   ]
  },
  {
   "cell_type": "code",
   "execution_count": 8,
   "id": "75f4f99c-edaa-497b-a95b-740b9d9b81d9",
   "metadata": {
    "colab": {
     "base_uri": "https://localhost:8080/"
    },
    "executionInfo": {
     "elapsed": 33,
     "status": "ok",
     "timestamp": 1656427342640,
     "user": {
      "displayName": "Afzal Qureshi",
      "userId": "07647317251768315234"
     },
     "user_tz": -330
    },
    "id": "75f4f99c-edaa-497b-a95b-740b9d9b81d9",
    "outputId": "070c9e9b-fc96-4b3e-ced5-58254fd7daf1"
   },
   "outputs": [
    {
     "data": {
      "text/plain": [
       "0      1\n",
       "1      0\n",
       "2      1\n",
       "3      0\n",
       "4      1\n",
       "      ..\n",
       "763    0\n",
       "764    0\n",
       "765    0\n",
       "766    1\n",
       "767    0\n",
       "Name: Outcome, Length: 768, dtype: int64"
      ]
     },
     "execution_count": 8,
     "metadata": {},
     "output_type": "execute_result"
    }
   ],
   "source": [
    "y"
   ]
  },
  {
   "cell_type": "markdown",
   "id": "309dad00-b74e-4c35-a0b4-9e3d9c0c32a7",
   "metadata": {
    "id": "309dad00-b74e-4c35-a0b4-9e3d9c0c32a7",
    "tags": []
   },
   "source": [
    "##### train test split"
   ]
  },
  {
   "cell_type": "code",
   "execution_count": 9,
   "id": "2c044e65-87e6-4e63-9fb0-da7214219472",
   "metadata": {
    "executionInfo": {
     "elapsed": 34,
     "status": "ok",
     "timestamp": 1656427342642,
     "user": {
      "displayName": "Afzal Qureshi",
      "userId": "07647317251768315234"
     },
     "user_tz": -330
    },
    "id": "2c044e65-87e6-4e63-9fb0-da7214219472"
   },
   "outputs": [],
   "source": [
    "from sklearn.model_selection import train_test_split"
   ]
  },
  {
   "cell_type": "code",
   "execution_count": 10,
   "id": "9c29a7a6-43bf-4af2-b09f-bca5f0b0bfe2",
   "metadata": {
    "executionInfo": {
     "elapsed": 34,
     "status": "ok",
     "timestamp": 1656427342642,
     "user": {
      "displayName": "Afzal Qureshi",
      "userId": "07647317251768315234"
     },
     "user_tz": -330
    },
    "id": "9c29a7a6-43bf-4af2-b09f-bca5f0b0bfe2"
   },
   "outputs": [],
   "source": [
    "xTrain, xTest, yTrain, yTest = train_test_split(X, y, test_size = 0.3, shuffle=True, random_state=5)"
   ]
  },
  {
   "cell_type": "markdown",
   "id": "14dfe2f5-7aa9-4303-b4d5-22a5e1a6c472",
   "metadata": {},
   "source": [
    "# func"
   ]
  },
  {
   "cell_type": "code",
   "execution_count": 11,
   "id": "bf1ace1f-3723-4fe9-8d52-ebf5854c8ccf",
   "metadata": {
    "colab": {
     "base_uri": "https://localhost:8080/"
    },
    "executionInfo": {
     "elapsed": 31,
     "status": "ok",
     "timestamp": 1656427342642,
     "user": {
      "displayName": "Afzal Qureshi",
      "userId": "07647317251768315234"
     },
     "user_tz": -330
    },
    "id": "61c7bb78-68c5-4430-8489-547d7d68bda3",
    "outputId": "b8b5a3f9-5f81-4949-8c66-beaa980a2076"
   },
   "outputs": [],
   "source": [
    "def score(model, xTrain, yTrain, xTest, yTest):\n",
    "    \n",
    "    model.fit(xTrain,yTrain)\n",
    "    print(f'train accuracy:{ model.score(xTrain,yTrain) :.2f}')\n",
    "    \n",
    "    yPred=model.predict(xTest)\n",
    "\n",
    "    print('\\nclassification report:\\n',classification_report(yTest, yPred))\n",
    "    \n",
    "    print('\\nconfusion matrix:')\n",
    "    sns.heatmap( confusion_matrix(yTest, yPred ), annot=True, cmap='OrRd')\n",
    "    plt.xlabel('pred')\n",
    "    plt.ylabel('actual')"
   ]
  },
  {
   "cell_type": "markdown",
   "id": "2293b617-bcf7-48e6-8e1a-09d4fc762e42",
   "metadata": {
    "id": "2293b617-bcf7-48e6-8e1a-09d4fc762e42",
    "tags": []
   },
   "source": [
    "### 1 LOGISTIC REGRESSION"
   ]
  },
  {
   "cell_type": "markdown",
   "id": "7af87c9d-3b3f-4440-aaac-4a2396e33848",
   "metadata": {
    "colab": {
     "base_uri": "https://localhost:8080/"
    },
    "executionInfo": {
     "elapsed": 32,
     "status": "ok",
     "timestamp": 1656427342642,
     "user": {
      "displayName": "Afzal Qureshi",
      "userId": "07647317251768315234"
     },
     "user_tz": -330
    },
    "id": "d9d51d61-ae65-4c79-89dc-ac5bfd5b77ee",
    "outputId": "e4fc1b7b-6237-49b6-9e18-1c6f2778b7b1"
   },
   "source": [
    "from sklearn.linear_model import LogisticRegression\n",
    "from sklearn.metrics import f1_score,classification_report,precision_score,recall_score,confusion_matrix\n",
    "\n",
    "model=LogisticRegression(max_iter=100000, class_weight='balanced') # use solver like 'sag' or 'sagg'\n",
    "\n",
    "score(model, xTrain, yTrain, xTest, yTest)"
   ]
  },
  {
   "cell_type": "markdown",
   "id": "e06cd731-5df2-4390-ae87-85e83bf4b18f",
   "metadata": {
    "id": "e06cd731-5df2-4390-ae87-85e83bf4b18f",
    "tags": []
   },
   "source": [
    "### 2 DECISION TREE"
   ]
  },
  {
   "cell_type": "markdown",
   "id": "f4d5fc06-bf3c-4673-9d9a-f9e3162cc7bf",
   "metadata": {
    "colab": {
     "base_uri": "https://localhost:8080/"
    },
    "executionInfo": {
     "elapsed": 29,
     "status": "ok",
     "timestamp": 1656427342643,
     "user": {
      "displayName": "Afzal Qureshi",
      "userId": "07647317251768315234"
     },
     "user_tz": -330
    },
    "id": "892eae93-56ed-4fae-9362-086fbb48b74c",
    "outputId": "7b111be6-bad1-47e4-f974-3ffa3c2301c8"
   },
   "source": [
    "from sklearn.tree import DecisionTreeClassifier as DTC\n",
    "\n",
    "model=DTC(max_depth=5,  criterion='entropy')   #min_impurity_decrease=0.1) #,\n",
    "\n",
    "score(model, xTrain, yTrain, xTest, yTest)"
   ]
  },
  {
   "cell_type": "markdown",
   "id": "df790ce9-6db4-4145-9f4c-bf3d83662e08",
   "metadata": {
    "id": "df790ce9-6db4-4145-9f4c-bf3d83662e08",
    "tags": []
   },
   "source": [
    "### 3 RANDOM FOREST"
   ]
  },
  {
   "cell_type": "markdown",
   "id": "455c65d1-4e2a-44b8-b21a-6f7275fff2d1",
   "metadata": {
    "colab": {
     "base_uri": "https://localhost:8080/"
    },
    "executionInfo": {
     "elapsed": 1880,
     "status": "ok",
     "timestamp": 1656428310543,
     "user": {
      "displayName": "Afzal Qureshi",
      "userId": "07647317251768315234"
     },
     "user_tz": -330
    },
    "id": "925bb3b3-43e1-4dc6-bbe8-2ddd38d5e4b5",
    "outputId": "f0c10310-65e2-4fb1-9fb5-f59d272e6a4a"
   },
   "source": [
    "from sklearn.ensemble import RandomForestClassifier as RFC\n",
    "\n",
    "model=RFC(n_estimators=300,  max_samples=.5, n_jobs=-1, class_weight='balanced')   \n",
    "\n",
    "score(model, xTrain, yTrain, xTest, yTest)"
   ]
  },
  {
   "cell_type": "markdown",
   "id": "7fc82ad0-4e5e-4275-9a02-48faec2d7d57",
   "metadata": {
    "id": "7fc82ad0-4e5e-4275-9a02-48faec2d7d57",
    "tags": []
   },
   "source": [
    "### 4 GRADBOOST"
   ]
  },
  {
   "cell_type": "markdown",
   "id": "8236f6c9-276e-4ad5-a66c-45bcd182ff7d",
   "metadata": {
    "colab": {
     "base_uri": "https://localhost:8080/"
    },
    "executionInfo": {
     "elapsed": 1611,
     "status": "ok",
     "timestamp": 1656428374732,
     "user": {
      "displayName": "Afzal Qureshi",
      "userId": "07647317251768315234"
     },
     "user_tz": -330
    },
    "id": "7f965867-5c6a-46e6-9786-0834553d5218",
    "outputId": "aa28d3b2-d7af-40f0-c7cb-42906d00d537"
   },
   "source": [
    "from sklearn.ensemble import GradientBoostingClassifier as GBC\n",
    "\n",
    "model=GBC(n_estimators=500, learning_rate=.1, max_depth=7, max_features=3)\n",
    "\n",
    "score(model, xTrain, yTrain, xTest, yTest)"
   ]
  },
  {
   "cell_type": "markdown",
   "id": "e47ed194-e9e5-4cfa-8cfc-a8f3bd6ad5d3",
   "metadata": {
    "id": "e47ed194-e9e5-4cfa-8cfc-a8f3bd6ad5d3",
    "tags": []
   },
   "source": [
    "### 5 XGB"
   ]
  },
  {
   "cell_type": "markdown",
   "id": "8cc7ff95-eb5a-499f-91e3-f4699abb0a12",
   "metadata": {
    "colab": {
     "base_uri": "https://localhost:8080/"
    },
    "executionInfo": {
     "elapsed": 32539,
     "status": "ok",
     "timestamp": 1656427375939,
     "user": {
      "displayName": "Afzal Qureshi",
      "userId": "07647317251768315234"
     },
     "user_tz": -330
    },
    "id": "0ba1c99a-ecd4-4859-a654-1db3096f3b71",
    "outputId": "c0947ea4-369e-4dbf-d897-ee10dee5c26b"
   },
   "source": [
    "from xgboost import XGBClassifier\n",
    "\n",
    "model=XGBClassifier(n_jobs=-1)   #n_estimators=10000, learning_rate=.00001, \n",
    "\n",
    "score(model, xTrain, yTrain, xTest, yTest)"
   ]
  },
  {
   "cell_type": "markdown",
   "id": "891313d9-4f28-48f4-bb4d-3f7b4b22e676",
   "metadata": {
    "id": "891313d9-4f28-48f4-bb4d-3f7b4b22e676"
   },
   "source": [
    "### 6 ADABOOST CLASSIFIER"
   ]
  },
  {
   "cell_type": "markdown",
   "id": "e4cd1865-dbbc-4a9f-bb30-84cd15b1dba5",
   "metadata": {
    "colab": {
     "base_uri": "https://localhost:8080/"
    },
    "executionInfo": {
     "elapsed": 19,
     "status": "ok",
     "timestamp": 1656427375944,
     "user": {
      "displayName": "Afzal Qureshi",
      "userId": "07647317251768315234"
     },
     "user_tz": -330
    },
    "id": "d970dd3d-f727-4831-8df0-4174c00a9beb",
    "outputId": "939df08d-c8f1-49fa-c17a-81c4dc271032"
   },
   "source": [
    "from sklearn.ensemble import AdaBoostClassifier as ABC\n",
    "\n",
    "''' DT as base'''\n",
    "model=ABC(base_estimator=DTC(max_depth=10), n_estimators=100, learning_rate=0.1)\n",
    "\n",
    "score(model, xTrain, yTrain, xTest, yTest)"
   ]
  },
  {
   "cell_type": "markdown",
   "id": "5cb514bf-74ed-413b-8907-950ce87f62c7",
   "metadata": {
    "colab": {
     "base_uri": "https://localhost:8080/"
    },
    "executionInfo": {
     "elapsed": 14068,
     "status": "ok",
     "timestamp": 1656427390003,
     "user": {
      "displayName": "Afzal Qureshi",
      "userId": "07647317251768315234"
     },
     "user_tz": -330
    },
    "id": "aa824943-8aed-476e-b313-30eb49e040ad",
    "outputId": "8b4a1a3e-3161-4830-8c56-d24a0b426f1e"
   },
   "source": [
    "''' RF as base'''\n",
    "RF_=RFC(n_estimators=100, n_jobs=-1, max_depth=5, min_samples_leaf=20)\n",
    "\n",
    "model=ABC(base_estimator=RF_, n_estimators=100, learning_rate=0.1)\n",
    "\n",
    "score(model, xTrain, yTrain, xTest, yTest)"
   ]
  },
  {
   "cell_type": "markdown",
   "id": "99bafbe9-262d-4e81-b51a-5ba0e03c9366",
   "metadata": {
    "id": "99bafbe9-262d-4e81-b51a-5ba0e03c9366"
   },
   "source": [
    "### 7 SVM"
   ]
  },
  {
   "cell_type": "markdown",
   "id": "10c00df1-dabc-44b0-912b-11fb0a479e3b",
   "metadata": {
    "id": "a2c3439c-9e84-4b33-b61c-0a25f5da8706"
   },
   "source": [
    "from sklearn.svm import SVC\n",
    "\n",
    "model = SVC(kernel='poly')\n",
    "\n",
    "score(model, xTrain, yTrain, xTest, yTest)"
   ]
  },
  {
   "cell_type": "markdown",
   "id": "6f22b0a3-b69d-47e6-8e7b-0dbb5443bf05",
   "metadata": {
    "id": "6f22b0a3-b69d-47e6-8e7b-0dbb5443bf05"
   },
   "source": [
    "### 8 KNC"
   ]
  },
  {
   "cell_type": "markdown",
   "id": "7edb6ed1-2dcc-4e87-a947-5137ecd29e4e",
   "metadata": {
    "colab": {
     "base_uri": "https://localhost:8080/"
    },
    "executionInfo": {
     "elapsed": 12,
     "status": "ok",
     "timestamp": 1656427475550,
     "user": {
      "displayName": "Afzal Qureshi",
      "userId": "07647317251768315234"
     },
     "user_tz": -330
    },
    "id": "53021ee7-167e-4507-ae29-b3d4b861cac7",
    "outputId": "26d6ab08-0509-456d-c28e-4800d1f061c1"
   },
   "source": [
    "from sklearn.neighbors import KNeighborsClassifier as KNC\n",
    "\n",
    "model=KNC(n_neighbors=5)\n",
    "\n",
    "score(model, xTrain, yTrain, xTest, yTest)"
   ]
  },
  {
   "cell_type": "markdown",
   "id": "2387f492-a543-4cb0-9be2-f7e468a40e6b",
   "metadata": {
    "id": "2387f492-a543-4cb0-9be2-f7e468a40e6b"
   },
   "source": [
    "### 9 RNC"
   ]
  },
  {
   "cell_type": "markdown",
   "id": "f411ad36-9ffe-4538-8974-117bc654fdd7",
   "metadata": {
    "colab": {
     "base_uri": "https://localhost:8080/"
    },
    "executionInfo": {
     "elapsed": 678,
     "status": "ok",
     "timestamp": 1656427534907,
     "user": {
      "displayName": "Afzal Qureshi",
      "userId": "07647317251768315234"
     },
     "user_tz": -330
    },
    "id": "7d425681-1686-4edb-a9b9-12b1c9045732",
    "outputId": "ef9baac3-4f8a-4683-afe6-3a2d446fc72c"
   },
   "source": [
    "from sklearn.neighbors import RadiusNeighborsClassifier as RNC\n",
    "\n",
    "model=RNC(radius=10000)\n",
    "\n",
    "score(model, xTrain, yTrain, xTest, yTest)"
   ]
  },
  {
   "cell_type": "markdown",
   "id": "043847be-ca37-46b8-a6fb-5d53a8f423e1",
   "metadata": {
    "tags": []
   },
   "source": [
    "# Pipeline\n",
    "\n",
    "pipelines=[]\n",
    "f1={}\n",
    "\n",
    "models={'gnb':GaussianNB()}\n",
    "\n",
    "for name,model in models.items():\n",
    "    \n",
    "    # making pipeline for each model\n",
    "    pipeline = Pipeline(steps=[( \"preprocessor\", MinMaxScaler() ),\n",
    "                               ( \"classifier\", model )\n",
    "                              ]\n",
    "                       )\n",
    "    \n",
    "    # print name of pipeline\n",
    "    print(name.upper(), 'model')\n",
    "    \n",
    "    # fitting data\n",
    "    pipeline.fit(xtrain,ytrain)\n",
    "    \n",
    "    # calculating scores and storing\n",
    "    score_cv=np.mean( cross_val_score(pipeline, X, y, cv=5, scoring='f1', n_jobs=-1) )\n",
    "    f1[name]=score_cv\n",
    "    \n",
    "    # printing scores\n",
    "    print('train score: ', pipeline.score(xtrain,ytrain) )\n",
    "    print('test score: ', pipeline.score(xtest,ytest) )\n",
    "    print('cross validation f1 score:', score_cv)\n",
    "    print('\\nclassification report:\\n', classification_report(ytest,pipeline.predict(xtest)) )\n",
    "    \n",
    "\n",
    "\n",
    "                                         ############### CALCULATIONS ##################\n",
    "    \n",
    "    '''scores vs threshold'''\n",
    "    from sklearn.metrics import precision_recall_curve, auc, roc_curve, roc_auc_score\n",
    "    \n",
    "    # probs_y is a 2-D array of probability of being labeled as 0 (first column of  array) vs 1 (2nd column in array)\n",
    "    y_probs=pipeline.predict_proba(xtest) \n",
    "\n",
    "    precision, recall, thresholds = precision_recall_curve(ytest, y_probs[:,1]) \n",
    "\n",
    "    #retrieve probability of being 1(in second column of probs_y)\n",
    "    pr_auc = auc(recall, precision)\n",
    "    \n",
    "    '''AUC ROC'''\n",
    "    y_pred_proba = pipeline.predict_proba(xtest)[::,1]\n",
    "    fpr, tpr, _ = roc_curve(ytest,  y_pred_proba)\n",
    "    auc = roc_auc_score(ytest, y_pred_proba)\n",
    "    \n",
    "    \n",
    "                                        ################ PLOTTING ##################\n",
    "    fig, (ax1, ax2, ax3)=plt.subplots(1,3, figsize=(15,3), dpi=120, gridspec_kw={'width_ratios': [6, 10, 10]} )  \n",
    "    \n",
    "    # confusion matrix\n",
    "    sns.heatmap( confusion_matrix(ytest,pipeline.predict(xtest)), annot=True, cmap='OrRd', ax=ax1 )\n",
    "    ax1.set_xlabel('predicted')\n",
    "    ax1.set_ylabel('actual')\n",
    "    ax1.set_title('Confusion matrix')\n",
    "    \n",
    "    # scores vs threshold\n",
    "    ax2.plot(thresholds, precision[: -1], \"b--\", label=\"Precision\")\n",
    "    ax2.plot(thresholds, recall[: -1], \"r--\", label=\"Recall\")\n",
    "    ax2.set_ylabel(\"Scores\")\n",
    "    ax2.set_xlabel(\"Threshold\")\n",
    "    ax2.set_title(\"Scores vs Threshold Chart\")\n",
    "    ax2.legend(loc=\"lower left\")\n",
    "    ax2.set_ylim([0,1])\n",
    "    \n",
    "    # AUC ROC\n",
    "    ax3.stackplot(fpr, tpr, alpha=0.5)\n",
    "    ax3.set_title(f'AUC:{ auc :.2f}')\n",
    "    ax3.set_xlabel('FPR')\n",
    "    ax3.set_ylabel('TPR')\n",
    "    ax3.set_xlim(0,1)\n",
    "    ax3.set_ylim(0,1)\n",
    "    \n",
    "    plt.suptitle(f'Plots for {name.upper()} model', fontsize=20, y=1.05, fontweight='bold')\n",
    "    plt.show()\n",
    "    \n",
    "    print('__________________________________________________________________________')\n",
    "    "
   ]
  },
  {
   "cell_type": "code",
   "execution_count": null,
   "id": "61aa7299-dc26-4b11-bc88-661b142f9d4b",
   "metadata": {},
   "outputs": [],
   "source": []
  },
  {
   "cell_type": "code",
   "execution_count": null,
   "id": "0888bacd-b69c-4854-a103-8f5b36b7ef94",
   "metadata": {},
   "outputs": [],
   "source": []
  },
  {
   "cell_type": "code",
   "execution_count": null,
   "id": "e91dbe22-6b4d-4275-a94b-82f034b6f23c",
   "metadata": {},
   "outputs": [],
   "source": []
  },
  {
   "cell_type": "markdown",
   "id": "e2ad8930-646e-4359-9de2-6f18004fbf04",
   "metadata": {},
   "source": [
    "# Expt"
   ]
  },
  {
   "cell_type": "code",
   "execution_count": 12,
   "id": "ac01add6-0dea-4a60-a48e-7bafd073641e",
   "metadata": {},
   "outputs": [],
   "source": [
    "mms_new=MinMaxScaler(feature_range=(10,20))"
   ]
  },
  {
   "cell_type": "code",
   "execution_count": 13,
   "id": "26bf6b13-ad9a-4c02-b268-6b9ca1ba3e81",
   "metadata": {},
   "outputs": [],
   "source": [
    "def plotit():\n",
    "    g = sns.FacetGrid(X.melt(), col='variable', col_wrap=2, aspect=3)\n",
    "    g.map(plt.hist, 'value')\n",
    "    g.fig.dpi=100\n",
    "    plt.show()"
   ]
  },
  {
   "cell_type": "code",
   "execution_count": 14,
   "id": "8b67c225-6fd0-4c35-84b8-d7adafbd12c9",
   "metadata": {},
   "outputs": [],
   "source": [
    "def manipulate():\n",
    "    for col in X.columns: #['Glucose','BloodPressure','SkinThickness','Insulin','BMI','DiabetesPedigreeFunction','Age']:\n",
    "        X[col]=np.log(X[col]+1)"
   ]
  },
  {
   "cell_type": "code",
   "execution_count": 15,
   "id": "7d4e4f9c-42b7-4bde-b843-74701d775ccb",
   "metadata": {},
   "outputs": [],
   "source": [
    "def scale():\n",
    "    global X\n",
    "    cols=X.columns\n",
    "    X=pd.DataFrame( mms_new.fit_transform(X), columns=cols)"
   ]
  },
  {
   "cell_type": "code",
   "execution_count": 16,
   "id": "c61dbde4-d0b7-45a2-b351-b6f5d7c541b0",
   "metadata": {},
   "outputs": [],
   "source": [
    "def SPMP():\n",
    "    X=df.drop('Outcome', axis=1)\n",
    "    y=df.Outcome\n",
    "    global xtrain, xtest, ytrain, ytest\n",
    "    xtrain, xtest, ytrain, ytest = train_test_split(X, y, test_size = 0.3, shuffle=True, random_state=5)\n",
    "    \n",
    "    scale()\n",
    "    plotit()\n",
    "    \n",
    "    manipulate()\n",
    "    print('\\n\\n')\n",
    "    plotit()"
   ]
  },
  {
   "cell_type": "code",
   "execution_count": null,
   "id": "28f012e5-33bf-41b8-925b-33c9652f306a",
   "metadata": {
    "tags": []
   },
   "outputs": [],
   "source": [
    "#SPMP()"
   ]
  },
  {
   "cell_type": "code",
   "execution_count": null,
   "id": "d3c0d092-ca16-4d21-90a7-78e78c77a39e",
   "metadata": {},
   "outputs": [],
   "source": []
  },
  {
   "cell_type": "code",
   "execution_count": null,
   "id": "425de663-901f-45dd-9cc3-04f432683125",
   "metadata": {},
   "outputs": [],
   "source": []
  },
  {
   "cell_type": "code",
   "execution_count": 19,
   "id": "f5d02c9b-727e-4d4f-9a60-c0f58100d4a3",
   "metadata": {},
   "outputs": [
    {
     "data": {
      "text/html": [
       "<div>\n",
       "<style scoped>\n",
       "    .dataframe tbody tr th:only-of-type {\n",
       "        vertical-align: middle;\n",
       "    }\n",
       "\n",
       "    .dataframe tbody tr th {\n",
       "        vertical-align: top;\n",
       "    }\n",
       "\n",
       "    .dataframe thead th {\n",
       "        text-align: right;\n",
       "    }\n",
       "</style>\n",
       "<table border=\"1\" class=\"dataframe\">\n",
       "  <thead>\n",
       "    <tr style=\"text-align: right;\">\n",
       "      <th></th>\n",
       "      <th>f1_score</th>\n",
       "    </tr>\n",
       "  </thead>\n",
       "  <tbody>\n",
       "    <tr>\n",
       "      <th>gnb</th>\n",
       "      <td>0.632152</td>\n",
       "    </tr>\n",
       "  </tbody>\n",
       "</table>\n",
       "</div>"
      ],
      "text/plain": [
       "     f1_score\n",
       "gnb  0.632152"
      ]
     },
     "execution_count": 19,
     "metadata": {},
     "output_type": "execute_result"
    }
   ],
   "source": [
    "df_f1=pd.DataFrame(f1.values(), index=f1.keys(), columns=['f1_score'])\n",
    "df_f1"
   ]
  },
  {
   "cell_type": "code",
   "execution_count": 21,
   "id": "e712cfa9-73f5-4fa8-a38e-1afc7c01b9e0",
   "metadata": {},
   "outputs": [
    {
     "ename": "AttributeError",
     "evalue": "module 'seaborn' has no attribute 'stackplot'",
     "output_type": "error",
     "traceback": [
      "\u001b[1;31m--------------------------------\u001b[0m",
      "\u001b[1;31mAttributeError\u001b[0mTraceback (most recent call last)",
      "\u001b[1;32m~\\AppData\\Local\\Temp/ipykernel_2944/3737031530.py\u001b[0m in \u001b[0;36m<module>\u001b[1;34m\u001b[0m\n\u001b[0;32m      1\u001b[0m \u001b[0mplt\u001b[0m\u001b[1;33m.\u001b[0m\u001b[0mfigure\u001b[0m\u001b[1;33m(\u001b[0m\u001b[0mfigsize\u001b[0m\u001b[1;33m=\u001b[0m\u001b[1;33m(\u001b[0m\u001b[1;36m10\u001b[0m\u001b[1;33m,\u001b[0m\u001b[1;36m6\u001b[0m\u001b[1;33m)\u001b[0m\u001b[1;33m,\u001b[0m \u001b[0mdpi\u001b[0m\u001b[1;33m=\u001b[0m\u001b[1;36m100\u001b[0m\u001b[1;33m)\u001b[0m\u001b[1;33m\u001b[0m\u001b[1;33m\u001b[0m\u001b[0m\n\u001b[1;32m----> 2\u001b[1;33m \u001b[0msns\u001b[0m\u001b[1;33m.\u001b[0m\u001b[0mstackplot\u001b[0m\u001b[1;33m(\u001b[0m\u001b[0mx\u001b[0m\u001b[1;33m=\u001b[0m\u001b[0mfpr\u001b[0m\u001b[1;33m,\u001b[0m \u001b[0my\u001b[0m\u001b[1;33m=\u001b[0m\u001b[0mtpr\u001b[0m\u001b[1;33m,\u001b[0m \u001b[0mmarkers\u001b[0m\u001b[1;33m=\u001b[0m\u001b[1;34m'x-'\u001b[0m\u001b[1;33m,\u001b[0m \u001b[0mci\u001b[0m\u001b[1;33m=\u001b[0m\u001b[1;32mFalse\u001b[0m \u001b[1;33m)\u001b[0m\u001b[1;33m\u001b[0m\u001b[1;33m\u001b[0m\u001b[0m\n\u001b[0m\u001b[0;32m      3\u001b[0m \u001b[0mplt\u001b[0m\u001b[1;33m.\u001b[0m\u001b[0mstackplot\u001b[0m\u001b[1;33m(\u001b[0m\u001b[0mfpr\u001b[0m\u001b[1;33m,\u001b[0m \u001b[0mtpr\u001b[0m\u001b[1;33m,\u001b[0m \u001b[0malpha\u001b[0m\u001b[1;33m=\u001b[0m\u001b[1;36m0.5\u001b[0m\u001b[1;33m)\u001b[0m\u001b[1;33m\u001b[0m\u001b[1;33m\u001b[0m\u001b[0m\n\u001b[0;32m      4\u001b[0m \u001b[0mplt\u001b[0m\u001b[1;33m.\u001b[0m\u001b[0mxlim\u001b[0m\u001b[1;33m(\u001b[0m\u001b[1;36m0\u001b[0m\u001b[1;33m,\u001b[0m\u001b[1;36m1\u001b[0m\u001b[1;33m)\u001b[0m\u001b[1;33m\u001b[0m\u001b[1;33m\u001b[0m\u001b[0m\n\u001b[0;32m      5\u001b[0m \u001b[0mplt\u001b[0m\u001b[1;33m.\u001b[0m\u001b[0mylim\u001b[0m\u001b[1;33m(\u001b[0m\u001b[1;36m0\u001b[0m\u001b[1;33m,\u001b[0m\u001b[1;36m1\u001b[0m\u001b[1;33m)\u001b[0m\u001b[1;33m\u001b[0m\u001b[1;33m\u001b[0m\u001b[0m\n",
      "\u001b[1;31mAttributeError\u001b[0m: module 'seaborn' has no attribute 'stackplot'"
     ]
    },
    {
     "data": {
      "text/plain": [
       "<Figure size 1000x600 with 0 Axes>"
      ]
     },
     "metadata": {},
     "output_type": "display_data"
    }
   ],
   "source": [
    "plt.figure(figsize=(10,6), dpi=100)\n",
    "sns.stackplot(x=fpr, y=tpr, markers='x-', ci=False )\n",
    "plt.stackplot(fpr, tpr, alpha=0.5)\n",
    "plt.xlim(0,1)\n",
    "plt.ylim(0,1)"
   ]
  },
  {
   "cell_type": "code",
   "execution_count": null,
   "id": "f2ad7a5e-a9f9-420d-bd25-9aaa886aa665",
   "metadata": {},
   "outputs": [],
   "source": []
  }
 ],
 "metadata": {
  "colab": {
   "collapsed_sections": [
    "9628e296-a301-40d4-8cc3-65d5bad2d37f",
    "ae4c1511-ba6d-4fe7-b469-30b304ec9dee",
    "9a57bdba-79c9-4833-9ae5-3fc6970f9d83",
    "84b62bc4-5b0d-4973-beed-af3beb709fb4",
    "3e1d2e12-b918-4f96-b5fc-10bebb417c10",
    "dcd95da2-7007-45df-a961-8c5e2dd861f1",
    "791755d8-60ed-4e12-9df3-a5b952adb683",
    "309dad00-b74e-4c35-a0b4-9e3d9c0c32a7",
    "fa08455a-1382-4105-8aee-933d928cdcea",
    "7c82cfdc-d2ae-498c-8f8e-abfb051aa220"
   ],
   "name": "pima ALL by afzal.ipynb",
   "provenance": []
  },
  "kernelspec": {
   "display_name": "Python 3 (ipykernel)",
   "language": "python",
   "name": "python3"
  },
  "language_info": {
   "codemirror_mode": {
    "name": "ipython",
    "version": 3
   },
   "file_extension": ".py",
   "mimetype": "text/x-python",
   "name": "python",
   "nbconvert_exporter": "python",
   "pygments_lexer": "ipython3",
   "version": "3.10.0"
  }
 },
 "nbformat": 4,
 "nbformat_minor": 5
}
