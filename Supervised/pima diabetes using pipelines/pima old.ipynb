{
 "cells": [
  {
   "cell_type": "code",
   "execution_count": null,
   "id": "87407d1b-1220-4ea1-bebb-2e7b6ca9298b",
   "metadata": {
    "executionInfo": {
     "elapsed": 735,
     "status": "ok",
     "timestamp": 1656427331561,
     "user": {
      "displayName": "Afzal Qureshi",
      "userId": "07647317251768315234"
     },
     "user_tz": -330
    },
    "id": "87407d1b-1220-4ea1-bebb-2e7b6ca9298b"
   },
   "outputs": [],
   "source": [
    "import numpy as np\n",
    "import pandas as pd\n",
    "import matplotlib.pyplot as plt\n",
    "import seaborn as sns"
   ]
  },
  {
   "cell_type": "code",
   "execution_count": null,
   "id": "AIvzz2huunyW",
   "metadata": {
    "colab": {
     "base_uri": "https://localhost:8080/"
    },
    "executionInfo": {
     "elapsed": 4173,
     "status": "ok",
     "timestamp": 1656427335731,
     "user": {
      "displayName": "Afzal Qureshi",
      "userId": "07647317251768315234"
     },
     "user_tz": -330
    },
    "id": "AIvzz2huunyW",
    "outputId": "e6351b30-0649-44e5-b540-c64b922c8a8a"
   },
   "outputs": [],
   "source": [
    "from google.colab import drive\n",
    "drive.mount('/content/drive')"
   ]
  },
  {
   "cell_type": "markdown",
   "id": "65737b67-422a-4d13-b172-b23c09df7279",
   "metadata": {
    "id": "65737b67-422a-4d13-b172-b23c09df7279",
    "tags": []
   },
   "source": [
    "# dataset basic info"
   ]
  },
  {
   "cell_type": "markdown",
   "id": "9628e296-a301-40d4-8cc3-65d5bad2d37f",
   "metadata": {
    "id": "9628e296-a301-40d4-8cc3-65d5bad2d37f",
    "tags": []
   },
   "source": [
    "### About pima diabetes dataset"
   ]
  },
  {
   "cell_type": "markdown",
   "id": "50279225-d675-4976-b935-08de1c4c6fb1",
   "metadata": {
    "id": "50279225-d675-4976-b935-08de1c4c6fb1",
    "tags": []
   },
   "source": [
    "This dataset is originally from the National Institute of Diabetes and Digestive and Kidney Diseases. The objective of the dataset is to diagnostically predict whether or not a patient has diabetes, based on certain diagnostic measurements included in the dataset. Several constraints were placed on the selection of these instances from a larger database. In particular, all patients here are females at least 21 years old of Pima Indian heritage.\n",
    "\n",
    "#### Content:\n",
    "The datasets consists of several medical predictor variables and one target variable, Outcome. Predictor variables includes the number of pregnancies the patient has had, their BMI, insulin level, age, and so on.\n",
    "The datasets consist of several medical predictor (independent) variables and one target (dependent) variable, Outcome. Independent variables include the number of pregnancies the patient has had, their BMI, insulin level, age, and so on."
   ]
  },
  {
   "cell_type": "markdown",
   "id": "ae4c1511-ba6d-4fe7-b469-30b304ec9dee",
   "metadata": {
    "id": "ae4c1511-ba6d-4fe7-b469-30b304ec9dee",
    "tags": []
   },
   "source": [
    "### loading dataset"
   ]
  },
  {
   "cell_type": "code",
   "execution_count": null,
   "id": "dd2c8c13-bb30-460c-a8fa-839beaa2e2db",
   "metadata": {
    "colab": {
     "base_uri": "https://localhost:8080/",
     "height": 456
    },
    "executionInfo": {
     "elapsed": 18,
     "status": "ok",
     "timestamp": 1656427335731,
     "user": {
      "displayName": "Afzal Qureshi",
      "userId": "07647317251768315234"
     },
     "user_tz": -330
    },
    "id": "dd2c8c13-bb30-460c-a8fa-839beaa2e2db",
    "outputId": "e3b77fe8-481c-48cd-e706-5b5cf098f12c"
   },
   "outputs": [],
   "source": [
    "df=pd.read_csv('PIMA_diabetes.csv')\n",
    "df"
   ]
  },
  {
   "cell_type": "markdown",
   "id": "9a57bdba-79c9-4833-9ae5-3fc6970f9d83",
   "metadata": {
    "id": "9a57bdba-79c9-4833-9ae5-3fc6970f9d83",
    "tags": []
   },
   "source": [
    "### Basic info "
   ]
  },
  {
   "cell_type": "code",
   "execution_count": null,
   "id": "ec228f95-6810-4b13-a3bb-9cb5ebc3f1d3",
   "metadata": {
    "colab": {
     "base_uri": "https://localhost:8080/",
     "height": 322
    },
    "executionInfo": {
     "elapsed": 16,
     "status": "ok",
     "timestamp": 1656427335732,
     "user": {
      "displayName": "Afzal Qureshi",
      "userId": "07647317251768315234"
     },
     "user_tz": -330
    },
    "id": "ec228f95-6810-4b13-a3bb-9cb5ebc3f1d3",
    "outputId": "8522eb50-9e3b-44fe-9675-79a5b0864548"
   },
   "outputs": [],
   "source": [
    "df.describe()"
   ]
  },
  {
   "cell_type": "code",
   "execution_count": null,
   "id": "28280151-08d2-4e42-aabd-3e380b205760",
   "metadata": {
    "colab": {
     "base_uri": "https://localhost:8080/"
    },
    "executionInfo": {
     "elapsed": 15,
     "status": "ok",
     "timestamp": 1656427335733,
     "user": {
      "displayName": "Afzal Qureshi",
      "userId": "07647317251768315234"
     },
     "user_tz": -330
    },
    "id": "28280151-08d2-4e42-aabd-3e380b205760",
    "outputId": "136375a2-606a-4397-e226-1a0dcff1d770"
   },
   "outputs": [],
   "source": [
    "df.info()"
   ]
  },
  {
   "cell_type": "code",
   "execution_count": null,
   "id": "53346183-f4e2-42a7-9c7c-3909f1343884",
   "metadata": {
    "colab": {
     "base_uri": "https://localhost:8080/",
     "height": 607
    },
    "executionInfo": {
     "elapsed": 2901,
     "status": "ok",
     "timestamp": 1656427338623,
     "user": {
      "displayName": "Afzal Qureshi",
      "userId": "07647317251768315234"
     },
     "user_tz": -330
    },
    "id": "53346183-f4e2-42a7-9c7c-3909f1343884",
    "outputId": "b7bc0ffe-4d71-40ea-8742-4ebf4804325a"
   },
   "outputs": [],
   "source": [
    "df.hist(figsize=(20,10))\n",
    "plt.show()"
   ]
  },
  {
   "cell_type": "code",
   "execution_count": null,
   "id": "1929df5b-9c7d-432d-aca8-01b0cd1ff144",
   "metadata": {
    "colab": {
     "base_uri": "https://localhost:8080/",
     "height": 790
    },
    "executionInfo": {
     "elapsed": 4013,
     "status": "ok",
     "timestamp": 1656427342633,
     "user": {
      "displayName": "Afzal Qureshi",
      "userId": "07647317251768315234"
     },
     "user_tz": -330
    },
    "id": "1929df5b-9c7d-432d-aca8-01b0cd1ff144",
    "outputId": "c66c0c0f-6af2-4b30-e565-40182a2d35c4"
   },
   "outputs": [],
   "source": [
    "fig , ax= plt.subplots(1,2, figsize=(23,10), dpi=100)\n",
    "\n",
    "pearson=df.corr()\n",
    "ax[0].set_title('pearson')\n",
    "sns.heatmap(pearson, cmap='YlGnBu', square=True, annot=True, ax=ax[0])\n",
    "\n",
    "spearman=df.corr(method='spearman')\n",
    "ax[1].set_title('spearman')\n",
    "sns.heatmap(spearman, cmap='YlGnBu', square=True, annot=True, ax=ax[1])\n",
    "\n",
    "plt.show()"
   ]
  },
  {
   "cell_type": "markdown",
   "id": "84b62bc4-5b0d-4973-beed-af3beb709fb4",
   "metadata": {
    "id": "84b62bc4-5b0d-4973-beed-af3beb709fb4",
    "jp-MarkdownHeadingCollapsed": true,
    "tags": []
   },
   "source": [
    "# FUNCTIONS to check outliers"
   ]
  },
  {
   "cell_type": "markdown",
   "id": "f8c5a402-c0bc-4f77-9b86-75d939df8600",
   "metadata": {
    "id": "f8c5a402-c0bc-4f77-9b86-75d939df8600",
    "jp-MarkdownHeadingCollapsed": true,
    "tags": []
   },
   "source": [
    "#### 5 point summary fn"
   ]
  },
  {
   "cell_type": "code",
   "execution_count": null,
   "id": "df42a2ed-57ad-4143-8517-4aea8ed9d485",
   "metadata": {
    "executionInfo": {
     "elapsed": 35,
     "status": "ok",
     "timestamp": 1656427342634,
     "user": {
      "displayName": "Afzal Qureshi",
      "userId": "07647317251768315234"
     },
     "user_tz": -330
    },
    "id": "df42a2ed-57ad-4143-8517-4aea8ed9d485"
   },
   "outputs": [],
   "source": [
    "def five_point(column):\n",
    "    print('5 point summary:')\n",
    "    print(pd.DataFrame(column).describe().iloc[3:] )\n",
    "    print('---------------------------------')"
   ]
  },
  {
   "cell_type": "markdown",
   "id": "951ebba8-919f-4cf1-90a2-87d10d3ca34d",
   "metadata": {
    "id": "951ebba8-919f-4cf1-90a2-87d10d3ca34d",
    "jp-MarkdownHeadingCollapsed": true,
    "tags": []
   },
   "source": [
    "#### Z score fn"
   ]
  },
  {
   "cell_type": "code",
   "execution_count": null,
   "id": "61329951-f582-4aaa-a7c4-c2828cbcb742",
   "metadata": {
    "executionInfo": {
     "elapsed": 35,
     "status": "ok",
     "timestamp": 1656427342635,
     "user": {
      "displayName": "Afzal Qureshi",
      "userId": "07647317251768315234"
     },
     "user_tz": -330
    },
    "id": "61329951-f582-4aaa-a7c4-c2828cbcb742",
    "tags": []
   },
   "outputs": [],
   "source": [
    "def z_score(column):\n",
    "    \n",
    "    mean=np.mean(column)\n",
    "    stdev=np.std(column)\n",
    "    \n",
    "    with_z=pd.DataFrame( {\n",
    "                            'outliers' : column,\n",
    "                            'Z-score' : (column-mean)/stdev \n",
    "    })\n",
    "    \n",
    "    lower=-3*stdev+mean\n",
    "    upper=3*stdev+mean\n",
    "    \n",
    "    print( 'OUTLIERS in '+column.name.upper()+' via Z score\\n' )\n",
    "    print('Outlier limits:\\nlower limit:',lower,'\\nupper limit:',upper)\n",
    "    print()\n",
    "    \n",
    "    outliers=with_z[ abs( with_z['Z-score'] )>3 ]          # observations with absolute value of z-score greater than 3 are considered outliers\n",
    "    \n",
    "    print('Total outliers:',len(outliers))\n",
    "    print( outliers )\n",
    "    print('---------------------------------')"
   ]
  },
  {
   "cell_type": "markdown",
   "id": "3e1d2e12-b918-4f96-b5fc-10bebb417c10",
   "metadata": {
    "id": "3e1d2e12-b918-4f96-b5fc-10bebb417c10",
    "jp-MarkdownHeadingCollapsed": true,
    "tags": []
   },
   "source": [
    "#### IQR fn"
   ]
  },
  {
   "cell_type": "code",
   "execution_count": null,
   "id": "6b3b0f16-40c1-4e1a-8320-ad7dc3eb31aa",
   "metadata": {
    "executionInfo": {
     "elapsed": 34,
     "status": "ok",
     "timestamp": 1656427342636,
     "user": {
      "displayName": "Afzal Qureshi",
      "userId": "07647317251768315234"
     },
     "user_tz": -330
    },
    "id": "6b3b0f16-40c1-4e1a-8320-ad7dc3eb31aa"
   },
   "outputs": [],
   "source": [
    "def IQR_method(column):\n",
    "    \n",
    "    print( 'OUTLIERS in '+column.name.upper()+' via IQR\\n' )\n",
    "    \n",
    "    #extracting q1,q3 from df.describe\n",
    "    q1,q3=column.describe().iloc[[4,6]]\n",
    "    \n",
    "    #upper and lower limit using iqr\n",
    "    iqr=q3-q1\n",
    "    upper=q3+1.5*iqr\n",
    "    lower=q1-1.5*iqr\n",
    "    \n",
    "    print('Outlier limits:\\nlower limit:',lower,'\\nupper limit:',upper)            # outlier limits defined using quartiles, iqr and tukey value of 1.5\n",
    "    print()\n",
    "    \n",
    "    outliers=pd.DataFrame( {\n",
    "                            'outliers' : column[(column<lower) | (column>upper) ]\n",
    "    })\n",
    "    \n",
    "    print('Total outliers:',len(outliers))\n",
    "    print( outliers )\n",
    "    print('---------------------------------')\n",
    "    "
   ]
  },
  {
   "cell_type": "markdown",
   "id": "dcd95da2-7007-45df-a961-8c5e2dd861f1",
   "metadata": {
    "id": "dcd95da2-7007-45df-a961-8c5e2dd861f1",
    "jp-MarkdownHeadingCollapsed": true,
    "tags": []
   },
   "source": [
    "#### Analysis of quantitative columns fn"
   ]
  },
  {
   "cell_type": "code",
   "execution_count": null,
   "id": "d0ed916c-7721-4cd9-88b6-52be3d64fd5a",
   "metadata": {
    "executionInfo": {
     "elapsed": 34,
     "status": "ok",
     "timestamp": 1656427342637,
     "user": {
      "displayName": "Afzal Qureshi",
      "userId": "07647317251768315234"
     },
     "user_tz": -330
    },
    "id": "d0ed916c-7721-4cd9-88b6-52be3d64fd5a"
   },
   "outputs": [],
   "source": [
    "def analysis_quant(column):\n",
    "    print('\\t\\t\\t\\tANALYSIS OF:',column.name.upper(),'\\n')\n",
    "\n",
    "    five_point(column)      # five point summary\n",
    "    z_score(column)         # z score and outliers\n",
    "    IQR_method(column)      # iqr and outliers using boxplot\n",
    "    \n",
    "    print('\\t\\t\\t\\t\\t\\t\\t\\t\\t\\tVISUALISATION\\n\\t\\t\\t\\tBOXPLOT\\t\\t\\t\\t\\t\\t\\t\\t\\t\\t\\t\\tHISTOGRAM')\n",
    "    \n",
    "    fig, axes = plt.subplots(1, 2, sharex=True, figsize=(20,7),dpi=300)\n",
    "    sns.boxplot(ax=axes[0] , x=column)                       # boxplot\n",
    "    sns.histplot(ax=axes[1],data=column,bins=25)             # histogram\n",
    "    plt.show()\n",
    "    \n",
    "    print('_____________________________________________________________________________________________________________________')"
   ]
  },
  {
   "cell_type": "markdown",
   "id": "653549a0-3d58-45c5-bd8d-20fdf568c35a",
   "metadata": {
    "id": "653549a0-3d58-45c5-bd8d-20fdf568c35a",
    "jp-MarkdownHeadingCollapsed": true,
    "tags": []
   },
   "source": [
    "#### Remove outliers fn"
   ]
  },
  {
   "cell_type": "code",
   "execution_count": null,
   "id": "ae3639b2-ec21-41f7-be85-b7cd5d3be336",
   "metadata": {
    "executionInfo": {
     "elapsed": 33,
     "status": "ok",
     "timestamp": 1656427342637,
     "user": {
      "displayName": "Afzal Qureshi",
      "userId": "07647317251768315234"
     },
     "user_tz": -330
    },
    "id": "ae3639b2-ec21-41f7-be85-b7cd5d3be336"
   },
   "outputs": [],
   "source": [
    "def remove_outliers(df,column,using='IQR'):\n",
    "    \n",
    "    '''Remove outliers from dataframe by using either IQR or Z\n",
    "       Parameters: df: a pandas dataframe\n",
    "                   column: column(name) from which outliers are to be removed\n",
    "                   using: by default 'IQR' is used. Other option is 'Z'\n",
    "    '''\n",
    "    \n",
    "    if using.upper()=='IQR':\n",
    "        \n",
    "        #extracting q1,q3 from df.describe\n",
    "        q1,q3=df[column].describe().iloc[[4,6]]\n",
    "\n",
    "        #upper and lower limit using iqr\n",
    "        iqr=q3-q1\n",
    "        upper=q3+1.5*iqr\n",
    "        lower=q1-1.5*iqr\n",
    "        \n",
    "        outliers=pd.DataFrame( { 'outliers' : df[column][(df[column]<lower) | (df[column]>upper)] } )\n",
    "        df.drop(index=outliers.index, inplace=True)\n",
    "        print('Removed the following outliers:\\n',outliers)\n",
    "        \n",
    "        \n",
    "    if using.upper()=='Z':\n",
    "        \n",
    "        mean=np.mean(df[column])\n",
    "        stdev=np.std(df[column])\n",
    "\n",
    "        with_z=pd.DataFrame( {'outliers' : df[column], 'Z-score' : (df[column]-mean)/stdev  })\n",
    "\n",
    "        lower=-3*stdev+mean\n",
    "        upper=3*stdev+mean\n",
    "\n",
    "        outliers=with_z[ abs( with_z['Z-score'] )>3 ]\n",
    "        df.drop(index=outliers.index, inplace=True)\n",
    "        print('Removed the following outliers:\\n',outliers)\n"
   ]
  },
  {
   "cell_type": "markdown",
   "id": "5cd2ee90-b5c0-4aab-9e88-dd33a146d521",
   "metadata": {
    "id": "5cd2ee90-b5c0-4aab-9e88-dd33a146d521",
    "tags": []
   },
   "source": [
    "# SCALING"
   ]
  },
  {
   "cell_type": "code",
   "execution_count": null,
   "id": "sAQOitsCtuOt",
   "metadata": {
    "executionInfo": {
     "elapsed": 35,
     "status": "ok",
     "timestamp": 1656427342639,
     "user": {
      "displayName": "Afzal Qureshi",
      "userId": "07647317251768315234"
     },
     "user_tz": -330
    },
    "id": "sAQOitsCtuOt"
   },
   "outputs": [],
   "source": []
  },
  {
   "cell_type": "markdown",
   "id": "zIG95q5XtiBu",
   "metadata": {
    "id": "zIG95q5XtiBu",
    "tags": []
   },
   "source": [
    "# Model without outlier removal"
   ]
  },
  {
   "cell_type": "markdown",
   "id": "791755d8-60ed-4e12-9df3-a5b952adb683",
   "metadata": {
    "id": "791755d8-60ed-4e12-9df3-a5b952adb683",
    "jp-MarkdownHeadingCollapsed": true,
    "tags": []
   },
   "source": [
    "##### Separating features and label"
   ]
  },
  {
   "cell_type": "code",
   "execution_count": null,
   "id": "62c1448b-1e51-4993-bf2d-a3a059f357d9",
   "metadata": {
    "colab": {
     "base_uri": "https://localhost:8080/",
     "height": 520
    },
    "executionInfo": {
     "elapsed": 35,
     "status": "ok",
     "timestamp": 1656427342640,
     "user": {
      "displayName": "Afzal Qureshi",
      "userId": "07647317251768315234"
     },
     "user_tz": -330
    },
    "id": "62c1448b-1e51-4993-bf2d-a3a059f357d9",
    "outputId": "af72fa00-34eb-4ab4-9e22-6ad0017f6109"
   },
   "outputs": [],
   "source": [
    "X=df.drop('Outcome',axis=1)\n",
    "y=df.Outcome\n",
    "X"
   ]
  },
  {
   "cell_type": "code",
   "execution_count": null,
   "id": "75f4f99c-edaa-497b-a95b-740b9d9b81d9",
   "metadata": {
    "colab": {
     "base_uri": "https://localhost:8080/"
    },
    "executionInfo": {
     "elapsed": 33,
     "status": "ok",
     "timestamp": 1656427342640,
     "user": {
      "displayName": "Afzal Qureshi",
      "userId": "07647317251768315234"
     },
     "user_tz": -330
    },
    "id": "75f4f99c-edaa-497b-a95b-740b9d9b81d9",
    "outputId": "070c9e9b-fc96-4b3e-ced5-58254fd7daf1"
   },
   "outputs": [],
   "source": [
    "y"
   ]
  },
  {
   "cell_type": "markdown",
   "id": "309dad00-b74e-4c35-a0b4-9e3d9c0c32a7",
   "metadata": {
    "id": "309dad00-b74e-4c35-a0b4-9e3d9c0c32a7",
    "jp-MarkdownHeadingCollapsed": true,
    "tags": []
   },
   "source": [
    "##### train test split"
   ]
  },
  {
   "cell_type": "code",
   "execution_count": null,
   "id": "2c044e65-87e6-4e63-9fb0-da7214219472",
   "metadata": {
    "executionInfo": {
     "elapsed": 34,
     "status": "ok",
     "timestamp": 1656427342642,
     "user": {
      "displayName": "Afzal Qureshi",
      "userId": "07647317251768315234"
     },
     "user_tz": -330
    },
    "id": "2c044e65-87e6-4e63-9fb0-da7214219472"
   },
   "outputs": [],
   "source": [
    "from sklearn.model_selection import train_test_split"
   ]
  },
  {
   "cell_type": "code",
   "execution_count": null,
   "id": "9c29a7a6-43bf-4af2-b09f-bca5f0b0bfe2",
   "metadata": {
    "executionInfo": {
     "elapsed": 34,
     "status": "ok",
     "timestamp": 1656427342642,
     "user": {
      "displayName": "Afzal Qureshi",
      "userId": "07647317251768315234"
     },
     "user_tz": -330
    },
    "id": "9c29a7a6-43bf-4af2-b09f-bca5f0b0bfe2"
   },
   "outputs": [],
   "source": [
    "xTrain, xTest, yTrain, yTest = train_test_split(X, y, test_size = 0.3, shuffle=True, random_state=5)"
   ]
  },
  {
   "cell_type": "markdown",
   "id": "2293b617-bcf7-48e6-8e1a-09d4fc762e42",
   "metadata": {
    "id": "2293b617-bcf7-48e6-8e1a-09d4fc762e42",
    "tags": []
   },
   "source": [
    "### 1 LOGISTIC REGRESSION"
   ]
  },
  {
   "cell_type": "code",
   "execution_count": null,
   "id": "ca95e2b2-f6ce-4f5d-ade4-e98016ebf43e",
   "metadata": {
    "executionInfo": {
     "elapsed": 33,
     "status": "ok",
     "timestamp": 1656427342642,
     "user": {
      "displayName": "Afzal Qureshi",
      "userId": "07647317251768315234"
     },
     "user_tz": -330
    },
    "id": "ca95e2b2-f6ce-4f5d-ade4-e98016ebf43e"
   },
   "outputs": [],
   "source": [
    "from sklearn.linear_model import LogisticRegression\n",
    "from sklearn.metrics import f1_score,classification_report,precision_score,recall_score,confusion_matrix"
   ]
  },
  {
   "cell_type": "code",
   "execution_count": null,
   "id": "d9d51d61-ae65-4c79-89dc-ac5bfd5b77ee",
   "metadata": {
    "colab": {
     "base_uri": "https://localhost:8080/"
    },
    "executionInfo": {
     "elapsed": 32,
     "status": "ok",
     "timestamp": 1656427342642,
     "user": {
      "displayName": "Afzal Qureshi",
      "userId": "07647317251768315234"
     },
     "user_tz": -330
    },
    "id": "d9d51d61-ae65-4c79-89dc-ac5bfd5b77ee",
    "outputId": "e4fc1b7b-6237-49b6-9e18-1c6f2778b7b1"
   },
   "outputs": [],
   "source": [
    "logistic_model=LogisticRegression(max_iter=100000, class_weight='balanced') # use solver like 'sag' or 'sagg'\n",
    "\n",
    "logistic_model.fit(xTrain,yTrain)  \n",
    "\n",
    "f1_score( logistic_model.predict(xTrain), yTrain)"
   ]
  },
  {
   "cell_type": "code",
   "execution_count": null,
   "id": "61c7bb78-68c5-4430-8489-547d7d68bda3",
   "metadata": {
    "colab": {
     "base_uri": "https://localhost:8080/"
    },
    "executionInfo": {
     "elapsed": 31,
     "status": "ok",
     "timestamp": 1656427342642,
     "user": {
      "displayName": "Afzal Qureshi",
      "userId": "07647317251768315234"
     },
     "user_tz": -330
    },
    "id": "61c7bb78-68c5-4430-8489-547d7d68bda3",
    "outputId": "b8b5a3f9-5f81-4949-8c66-beaa980a2076"
   },
   "outputs": [],
   "source": [
    "yPred=logistic_model.predict(xTest)\n",
    "\n",
    "print('accuracy:       ',logistic_model.score(xTest,yTest))\n",
    "print('f1 score:       ',f1_score(yTest, yPred) )\n",
    "print('precision score:',precision_score(yTest,yPred))\n",
    "print('recall score:   ',recall_score(yTest,yPred))\n",
    "print('\\nclassification report:\\n',classification_report(yTest, yPred))\n",
    "print('\\nconfusion matrix:\\n',confusion_matrix(yTest, yPred ))"
   ]
  },
  {
   "cell_type": "markdown",
   "id": "e06cd731-5df2-4390-ae87-85e83bf4b18f",
   "metadata": {
    "id": "e06cd731-5df2-4390-ae87-85e83bf4b18f",
    "tags": []
   },
   "source": [
    "### 2 DECISION TREE"
   ]
  },
  {
   "cell_type": "code",
   "execution_count": null,
   "id": "4add09b6-4d95-4ff3-af9b-c169022ee2c0",
   "metadata": {
    "executionInfo": {
     "elapsed": 28,
     "status": "ok",
     "timestamp": 1656427342642,
     "user": {
      "displayName": "Afzal Qureshi",
      "userId": "07647317251768315234"
     },
     "user_tz": -330
    },
    "id": "4add09b6-4d95-4ff3-af9b-c169022ee2c0"
   },
   "outputs": [],
   "source": [
    "from sklearn.tree import DecisionTreeClassifier as DTC"
   ]
  },
  {
   "cell_type": "code",
   "execution_count": null,
   "id": "892eae93-56ed-4fae-9362-086fbb48b74c",
   "metadata": {
    "colab": {
     "base_uri": "https://localhost:8080/"
    },
    "executionInfo": {
     "elapsed": 29,
     "status": "ok",
     "timestamp": 1656427342643,
     "user": {
      "displayName": "Afzal Qureshi",
      "userId": "07647317251768315234"
     },
     "user_tz": -330
    },
    "id": "892eae93-56ed-4fae-9362-086fbb48b74c",
    "outputId": "7b111be6-bad1-47e4-f974-3ffa3c2301c8"
   },
   "outputs": [],
   "source": [
    "model=DTC(max_depth=5,  criterion='entropy')   #min_impurity_decrease=0.1) #,\n",
    "\n",
    "model.fit(xTrain,yTrain)\n",
    "\n",
    "model.score(xTrain,yTrain)"
   ]
  },
  {
   "cell_type": "code",
   "execution_count": null,
   "id": "002b7e5b-5506-4faa-ac08-2d31a8e390aa",
   "metadata": {
    "colab": {
     "base_uri": "https://localhost:8080/"
    },
    "executionInfo": {
     "elapsed": 25,
     "status": "ok",
     "timestamp": 1656427342643,
     "user": {
      "displayName": "Afzal Qureshi",
      "userId": "07647317251768315234"
     },
     "user_tz": -330
    },
    "id": "002b7e5b-5506-4faa-ac08-2d31a8e390aa",
    "outputId": "5f895885-f8fd-42ff-b2a3-c2c30c705886"
   },
   "outputs": [],
   "source": [
    "model.score(xTest,yTest)"
   ]
  },
  {
   "cell_type": "markdown",
   "id": "df790ce9-6db4-4145-9f4c-bf3d83662e08",
   "metadata": {
    "id": "df790ce9-6db4-4145-9f4c-bf3d83662e08",
    "tags": []
   },
   "source": [
    "### 3 RANDOM FOREST"
   ]
  },
  {
   "cell_type": "code",
   "execution_count": null,
   "id": "1f3d0e32-5c65-4f51-8dee-a75333510237",
   "metadata": {
    "executionInfo": {
     "elapsed": 23,
     "status": "ok",
     "timestamp": 1656427342644,
     "user": {
      "displayName": "Afzal Qureshi",
      "userId": "07647317251768315234"
     },
     "user_tz": -330
    },
    "id": "1f3d0e32-5c65-4f51-8dee-a75333510237"
   },
   "outputs": [],
   "source": [
    "from sklearn.ensemble import RandomForestClassifier as RFC"
   ]
  },
  {
   "cell_type": "code",
   "execution_count": null,
   "id": "925bb3b3-43e1-4dc6-bbe8-2ddd38d5e4b5",
   "metadata": {
    "colab": {
     "base_uri": "https://localhost:8080/"
    },
    "executionInfo": {
     "elapsed": 1880,
     "status": "ok",
     "timestamp": 1656428310543,
     "user": {
      "displayName": "Afzal Qureshi",
      "userId": "07647317251768315234"
     },
     "user_tz": -330
    },
    "id": "925bb3b3-43e1-4dc6-bbe8-2ddd38d5e4b5",
    "outputId": "f0c10310-65e2-4fb1-9fb5-f59d272e6a4a"
   },
   "outputs": [],
   "source": [
    "model=RFC(n_estimators=300,  max_samples=.5, n_jobs=-1, class_weight='balanced')   \n",
    "\n",
    "model.fit(xTrain,yTrain)\n",
    "\n",
    "model.score(xTrain,yTrain)"
   ]
  },
  {
   "cell_type": "code",
   "execution_count": null,
   "id": "944ba42b-2ddb-4ff9-944a-c1142bf3d465",
   "metadata": {
    "colab": {
     "base_uri": "https://localhost:8080/"
    },
    "executionInfo": {
     "elapsed": 1164,
     "status": "ok",
     "timestamp": 1656428316883,
     "user": {
      "displayName": "Afzal Qureshi",
      "userId": "07647317251768315234"
     },
     "user_tz": -330
    },
    "id": "944ba42b-2ddb-4ff9-944a-c1142bf3d465",
    "outputId": "5ac375f5-5645-4598-a7f1-d2d808dc796a"
   },
   "outputs": [],
   "source": [
    "model.score(xTest,yTest)"
   ]
  },
  {
   "cell_type": "code",
   "execution_count": null,
   "id": "Q2bFpe750I41",
   "metadata": {
    "colab": {
     "base_uri": "https://localhost:8080/"
    },
    "executionInfo": {
     "elapsed": 8,
     "status": "ok",
     "timestamp": 1656428318440,
     "user": {
      "displayName": "Afzal Qureshi",
      "userId": "07647317251768315234"
     },
     "user_tz": -330
    },
    "id": "Q2bFpe750I41",
    "outputId": "53ff88be-d1cd-45a0-fda3-bc07d755d36d"
   },
   "outputs": [],
   "source": [
    "yPred=model.predict(xTest)\n",
    "print(classification_report(yTest, yPred))"
   ]
  },
  {
   "cell_type": "markdown",
   "id": "7fc82ad0-4e5e-4275-9a02-48faec2d7d57",
   "metadata": {
    "id": "7fc82ad0-4e5e-4275-9a02-48faec2d7d57",
    "tags": []
   },
   "source": [
    "### 4 GRADBOOST"
   ]
  },
  {
   "cell_type": "code",
   "execution_count": null,
   "id": "cb561cb0-ff92-477f-98f5-e3830695f751",
   "metadata": {
    "executionInfo": {
     "elapsed": 10,
     "status": "ok",
     "timestamp": 1656427343404,
     "user": {
      "displayName": "Afzal Qureshi",
      "userId": "07647317251768315234"
     },
     "user_tz": -330
    },
    "id": "cb561cb0-ff92-477f-98f5-e3830695f751"
   },
   "outputs": [],
   "source": [
    "from sklearn.ensemble import GradientBoostingClassifier as GBC"
   ]
  },
  {
   "cell_type": "code",
   "execution_count": null,
   "id": "7f965867-5c6a-46e6-9786-0834553d5218",
   "metadata": {
    "colab": {
     "base_uri": "https://localhost:8080/"
    },
    "executionInfo": {
     "elapsed": 1611,
     "status": "ok",
     "timestamp": 1656428374732,
     "user": {
      "displayName": "Afzal Qureshi",
      "userId": "07647317251768315234"
     },
     "user_tz": -330
    },
    "id": "7f965867-5c6a-46e6-9786-0834553d5218",
    "outputId": "aa28d3b2-d7af-40f0-c7cb-42906d00d537"
   },
   "outputs": [],
   "source": [
    "model=GBC(n_estimators=500, learning_rate=.1, max_depth=7, max_features=3)\n",
    "\n",
    "model.fit(xTrain, yTrain)\n",
    "\n",
    "model.score(xTrain, yTrain),model.score(xTest,yTest)"
   ]
  },
  {
   "cell_type": "code",
   "execution_count": null,
   "id": "eabcadb2-64ae-40c6-a4c5-a52ac38e1e25",
   "metadata": {
    "colab": {
     "base_uri": "https://localhost:8080/"
    },
    "executionInfo": {
     "elapsed": 5,
     "status": "ok",
     "timestamp": 1656428378195,
     "user": {
      "displayName": "Afzal Qureshi",
      "userId": "07647317251768315234"
     },
     "user_tz": -330
    },
    "id": "eabcadb2-64ae-40c6-a4c5-a52ac38e1e25",
    "outputId": "29c00c75-22e5-4876-c71b-af404d55bb87"
   },
   "outputs": [],
   "source": [
    "model.feature_importances_"
   ]
  },
  {
   "cell_type": "markdown",
   "id": "e47ed194-e9e5-4cfa-8cfc-a8f3bd6ad5d3",
   "metadata": {
    "id": "e47ed194-e9e5-4cfa-8cfc-a8f3bd6ad5d3",
    "tags": []
   },
   "source": [
    "### 5 XGB"
   ]
  },
  {
   "cell_type": "code",
   "execution_count": null,
   "id": "1b2b2feb-ee70-433b-981b-5c4f52dc9cca",
   "metadata": {
    "executionInfo": {
     "elapsed": 5,
     "status": "ok",
     "timestamp": 1656427343405,
     "user": {
      "displayName": "Afzal Qureshi",
      "userId": "07647317251768315234"
     },
     "user_tz": -330
    },
    "id": "1b2b2feb-ee70-433b-981b-5c4f52dc9cca"
   },
   "outputs": [],
   "source": [
    "from xgboost import XGBClassifier"
   ]
  },
  {
   "cell_type": "code",
   "execution_count": null,
   "id": "0ba1c99a-ecd4-4859-a654-1db3096f3b71",
   "metadata": {
    "colab": {
     "base_uri": "https://localhost:8080/"
    },
    "executionInfo": {
     "elapsed": 32539,
     "status": "ok",
     "timestamp": 1656427375939,
     "user": {
      "displayName": "Afzal Qureshi",
      "userId": "07647317251768315234"
     },
     "user_tz": -330
    },
    "id": "0ba1c99a-ecd4-4859-a654-1db3096f3b71",
    "outputId": "c0947ea4-369e-4dbf-d897-ee10dee5c26b"
   },
   "outputs": [],
   "source": [
    "model=XGBClassifier(n_estimators=50000, learning_rate=.0008, n_jobs=-1)   \n",
    "\n",
    "model.fit(xTrain,yTrain)\n",
    "\n",
    "model.score(xTrain,yTrain)"
   ]
  },
  {
   "cell_type": "code",
   "execution_count": null,
   "id": "c93b260b-6bf6-45da-9601-223472cf2a55",
   "metadata": {
    "colab": {
     "base_uri": "https://localhost:8080/"
    },
    "executionInfo": {
     "elapsed": 19,
     "status": "ok",
     "timestamp": 1656427375941,
     "user": {
      "displayName": "Afzal Qureshi",
      "userId": "07647317251768315234"
     },
     "user_tz": -330
    },
    "id": "c93b260b-6bf6-45da-9601-223472cf2a55",
    "outputId": "ad08b309-8a8d-44aa-d1a8-ae669204e789"
   },
   "outputs": [],
   "source": [
    "model.score(xTest,yTest)"
   ]
  },
  {
   "cell_type": "markdown",
   "id": "891313d9-4f28-48f4-bb4d-3f7b4b22e676",
   "metadata": {
    "id": "891313d9-4f28-48f4-bb4d-3f7b4b22e676"
   },
   "source": [
    "### 6 ADABOOST CLASSIFIER"
   ]
  },
  {
   "cell_type": "code",
   "execution_count": null,
   "id": "e4d24176-dccc-4f40-8f55-4adad77f340b",
   "metadata": {
    "executionInfo": {
     "elapsed": 19,
     "status": "ok",
     "timestamp": 1656427375943,
     "user": {
      "displayName": "Afzal Qureshi",
      "userId": "07647317251768315234"
     },
     "user_tz": -330
    },
    "id": "e4d24176-dccc-4f40-8f55-4adad77f340b"
   },
   "outputs": [],
   "source": [
    "from sklearn.ensemble import AdaBoostClassifier as ABC"
   ]
  },
  {
   "cell_type": "code",
   "execution_count": null,
   "id": "d970dd3d-f727-4831-8df0-4174c00a9beb",
   "metadata": {
    "colab": {
     "base_uri": "https://localhost:8080/"
    },
    "executionInfo": {
     "elapsed": 19,
     "status": "ok",
     "timestamp": 1656427375944,
     "user": {
      "displayName": "Afzal Qureshi",
      "userId": "07647317251768315234"
     },
     "user_tz": -330
    },
    "id": "d970dd3d-f727-4831-8df0-4174c00a9beb",
    "outputId": "939df08d-c8f1-49fa-c17a-81c4dc271032"
   },
   "outputs": [],
   "source": [
    "''' DT as base'''\n",
    "model=ABC(base_estimator=DTC(max_depth=10), n_estimators=100, learning_rate=0.1)\n",
    "\n",
    "model.fit(xTrain, yTrain)\n",
    "\n",
    "model.score(xTrain, yTrain),model.score(xTest,yTest)"
   ]
  },
  {
   "cell_type": "code",
   "execution_count": null,
   "id": "d3a6dd90-f580-494d-a098-522a3e92e07d",
   "metadata": {
    "colab": {
     "base_uri": "https://localhost:8080/"
    },
    "executionInfo": {
     "elapsed": 16,
     "status": "ok",
     "timestamp": 1656427375944,
     "user": {
      "displayName": "Afzal Qureshi",
      "userId": "07647317251768315234"
     },
     "user_tz": -330
    },
    "id": "d3a6dd90-f580-494d-a098-522a3e92e07d",
    "outputId": "eaaa44de-086f-46b4-8c3d-c8bf5e6d8b2a"
   },
   "outputs": [],
   "source": [
    "model.feature_importances_"
   ]
  },
  {
   "cell_type": "code",
   "execution_count": null,
   "id": "aa824943-8aed-476e-b313-30eb49e040ad",
   "metadata": {
    "colab": {
     "base_uri": "https://localhost:8080/"
    },
    "executionInfo": {
     "elapsed": 14068,
     "status": "ok",
     "timestamp": 1656427390003,
     "user": {
      "displayName": "Afzal Qureshi",
      "userId": "07647317251768315234"
     },
     "user_tz": -330
    },
    "id": "aa824943-8aed-476e-b313-30eb49e040ad",
    "outputId": "8b4a1a3e-3161-4830-8c56-d24a0b426f1e"
   },
   "outputs": [],
   "source": [
    "''' RF as base'''\n",
    "RF_=RFC(n_estimators=50, n_jobs=-1, max_depth=7)\n",
    "\n",
    "model=ABC(base_estimator=RF_, n_estimators=100, learning_rate=0.1)\n",
    "\n",
    "model.fit(xTrain, yTrain)\n",
    "\n",
    "model.score(xTrain, yTrain),model.score(xTest,yTest)"
   ]
  },
  {
   "cell_type": "code",
   "execution_count": null,
   "id": "78297a70-7515-4a11-88fe-5044083c6f68",
   "metadata": {
    "colab": {
     "base_uri": "https://localhost:8080/"
    },
    "executionInfo": {
     "elapsed": 3552,
     "status": "ok",
     "timestamp": 1656427393550,
     "user": {
      "displayName": "Afzal Qureshi",
      "userId": "07647317251768315234"
     },
     "user_tz": -330
    },
    "id": "78297a70-7515-4a11-88fe-5044083c6f68",
    "outputId": "e0f8b79e-ccc4-4fa7-ebbb-d06a3cdf7d51"
   },
   "outputs": [],
   "source": [
    "model.feature_importances_"
   ]
  },
  {
   "cell_type": "markdown",
   "id": "99bafbe9-262d-4e81-b51a-5ba0e03c9366",
   "metadata": {
    "id": "99bafbe9-262d-4e81-b51a-5ba0e03c9366"
   },
   "source": [
    "### 7 SVM"
   ]
  },
  {
   "cell_type": "code",
   "execution_count": null,
   "id": "872a90dd-b47b-468d-a4f5-2917ca7a06d7",
   "metadata": {
    "executionInfo": {
     "elapsed": 12,
     "status": "ok",
     "timestamp": 1656427393552,
     "user": {
      "displayName": "Afzal Qureshi",
      "userId": "07647317251768315234"
     },
     "user_tz": -330
    },
    "id": "872a90dd-b47b-468d-a4f5-2917ca7a06d7"
   },
   "outputs": [],
   "source": [
    "from sklearn.svm import SVC"
   ]
  },
  {
   "cell_type": "code",
   "execution_count": null,
   "id": "a2c3439c-9e84-4b33-b61c-0a25f5da8706",
   "metadata": {
    "id": "a2c3439c-9e84-4b33-b61c-0a25f5da8706"
   },
   "outputs": [],
   "source": [
    "model = SVC(kernel='poly', degree = 4, C=100, gamma=10)\n",
    "model.fit(xTrain, yTrain)"
   ]
  },
  {
   "cell_type": "code",
   "execution_count": null,
   "id": "cec82f4d-ac63-4fa7-b368-5b3bfa88448b",
   "metadata": {
    "id": "cec82f4d-ac63-4fa7-b368-5b3bfa88448b"
   },
   "outputs": [],
   "source": [
    "model.score(xTest, yTest)"
   ]
  },
  {
   "cell_type": "code",
   "execution_count": null,
   "id": "vyxQRFkU1Qpg",
   "metadata": {
    "id": "vyxQRFkU1Qpg"
   },
   "outputs": [],
   "source": [
    "model.score(xTrain,yTrain)"
   ]
  },
  {
   "cell_type": "markdown",
   "id": "6f22b0a3-b69d-47e6-8e7b-0dbb5443bf05",
   "metadata": {
    "id": "6f22b0a3-b69d-47e6-8e7b-0dbb5443bf05"
   },
   "source": [
    "### 8 KNC"
   ]
  },
  {
   "cell_type": "code",
   "execution_count": null,
   "id": "0fff98fa-4bce-4992-bb17-49cbee1be0bb",
   "metadata": {
    "executionInfo": {
     "elapsed": 14,
     "status": "ok",
     "timestamp": 1656427475550,
     "user": {
      "displayName": "Afzal Qureshi",
      "userId": "07647317251768315234"
     },
     "user_tz": -330
    },
    "id": "0fff98fa-4bce-4992-bb17-49cbee1be0bb"
   },
   "outputs": [],
   "source": [
    "from sklearn.neighbors import KNeighborsClassifier as KNC"
   ]
  },
  {
   "cell_type": "code",
   "execution_count": null,
   "id": "53021ee7-167e-4507-ae29-b3d4b861cac7",
   "metadata": {
    "colab": {
     "base_uri": "https://localhost:8080/"
    },
    "executionInfo": {
     "elapsed": 12,
     "status": "ok",
     "timestamp": 1656427475550,
     "user": {
      "displayName": "Afzal Qureshi",
      "userId": "07647317251768315234"
     },
     "user_tz": -330
    },
    "id": "53021ee7-167e-4507-ae29-b3d4b861cac7",
    "outputId": "26d6ab08-0509-456d-c28e-4800d1f061c1"
   },
   "outputs": [],
   "source": [
    "model=KNC(n_neighbors=5)\n",
    "model.fit(xTrain, yTrain)"
   ]
  },
  {
   "cell_type": "code",
   "execution_count": null,
   "id": "64d43b7e-646c-4927-a49e-fd869f149317",
   "metadata": {
    "colab": {
     "base_uri": "https://localhost:8080/"
    },
    "executionInfo": {
     "elapsed": 518,
     "status": "ok",
     "timestamp": 1656427487103,
     "user": {
      "displayName": "Afzal Qureshi",
      "userId": "07647317251768315234"
     },
     "user_tz": -330
    },
    "id": "64d43b7e-646c-4927-a49e-fd869f149317",
    "outputId": "9dbb2b72-b257-4b29-d35a-9accf68461c3"
   },
   "outputs": [],
   "source": [
    "model.score(xTest, yTest)"
   ]
  },
  {
   "cell_type": "markdown",
   "id": "2387f492-a543-4cb0-9be2-f7e468a40e6b",
   "metadata": {
    "id": "2387f492-a543-4cb0-9be2-f7e468a40e6b"
   },
   "source": [
    "### 9 RNC"
   ]
  },
  {
   "cell_type": "code",
   "execution_count": null,
   "id": "542ea2e1-8b12-4800-9c43-c361b59628e6",
   "metadata": {
    "executionInfo": {
     "elapsed": 29,
     "status": "ok",
     "timestamp": 1656427488011,
     "user": {
      "displayName": "Afzal Qureshi",
      "userId": "07647317251768315234"
     },
     "user_tz": -330
    },
    "id": "542ea2e1-8b12-4800-9c43-c361b59628e6"
   },
   "outputs": [],
   "source": [
    "from sklearn.neighbors import RadiusNeighborsClassifier as RNC"
   ]
  },
  {
   "cell_type": "code",
   "execution_count": null,
   "id": "7d425681-1686-4edb-a9b9-12b1c9045732",
   "metadata": {
    "colab": {
     "base_uri": "https://localhost:8080/"
    },
    "executionInfo": {
     "elapsed": 678,
     "status": "ok",
     "timestamp": 1656427534907,
     "user": {
      "displayName": "Afzal Qureshi",
      "userId": "07647317251768315234"
     },
     "user_tz": -330
    },
    "id": "7d425681-1686-4edb-a9b9-12b1c9045732",
    "outputId": "ef9baac3-4f8a-4683-afe6-3a2d446fc72c"
   },
   "outputs": [],
   "source": [
    "model=RNC(radius=10000)\n",
    "model.fit(xTrain, yTrain)"
   ]
  },
  {
   "cell_type": "code",
   "execution_count": null,
   "id": "9a6d7c54-70b9-4b83-a50d-55acd9b58923",
   "metadata": {
    "colab": {
     "base_uri": "https://localhost:8080/"
    },
    "executionInfo": {
     "elapsed": 4,
     "status": "ok",
     "timestamp": 1656427536871,
     "user": {
      "displayName": "Afzal Qureshi",
      "userId": "07647317251768315234"
     },
     "user_tz": -330
    },
    "id": "9a6d7c54-70b9-4b83-a50d-55acd9b58923",
    "outputId": "83b48169-c745-4e71-c8d0-7d99d89b3c15"
   },
   "outputs": [],
   "source": [
    "model.score(xTest, yTest)"
   ]
  },
  {
   "cell_type": "markdown",
   "id": "fa08455a-1382-4105-8aee-933d928cdcea",
   "metadata": {
    "id": "fa08455a-1382-4105-8aee-933d928cdcea",
    "tags": []
   },
   "source": [
    "# outlier removal"
   ]
  },
  {
   "cell_type": "code",
   "execution_count": null,
   "id": "d45a51a5-bf7d-44c2-b442-9558ff61f75a",
   "metadata": {
    "colab": {
     "base_uri": "https://localhost:8080/",
     "height": 753
    },
    "executionInfo": {
     "elapsed": 12,
     "status": "ok",
     "timestamp": 1656427495953,
     "user": {
      "displayName": "Afzal Qureshi",
      "userId": "07647317251768315234"
     },
     "user_tz": -330
    },
    "id": "d45a51a5-bf7d-44c2-b442-9558ff61f75a",
    "outputId": "02ff5a61-f67b-4eb5-d5df-6a3148f77af7"
   },
   "outputs": [],
   "source": [
    "''' removing only 1 absurd outlier:99'''\n",
    "#remove_outliers(df,'SkinThickness',using='Z')"
   ]
  },
  {
   "cell_type": "code",
   "execution_count": null,
   "id": "86ba550b-667c-4083-a205-57c793c4f58f",
   "metadata": {
    "colab": {
     "base_uri": "https://localhost:8080/",
     "height": 1000
    },
    "executionInfo": {
     "elapsed": 12,
     "status": "ok",
     "timestamp": 1656427495954,
     "user": {
      "displayName": "Afzal Qureshi",
      "userId": "07647317251768315234"
     },
     "user_tz": -330
    },
    "id": "86ba550b-667c-4083-a205-57c793c4f58f",
    "outputId": "5c423455-cca4-48e5-bf21-07e54362689b"
   },
   "outputs": [],
   "source": [
    "'''removing outliers with value of 0 as glucose level and blood pressure and BMI'''\n",
    "# remove_outliers(df,'Glucose',using='Z')\n",
    "# remove_outliers(df,'BloodPressure',using='Z')\n",
    "# remove_outliers(df,'BMI',using='Z')"
   ]
  },
  {
   "cell_type": "code",
   "execution_count": null,
   "id": "86a1ab91-db5c-41a5-8d6a-ac6ba852568e",
   "metadata": {
    "executionInfo": {
     "elapsed": 11,
     "status": "ok",
     "timestamp": 1656427495955,
     "user": {
      "displayName": "Afzal Qureshi",
      "userId": "07647317251768315234"
     },
     "user_tz": -330
    },
    "id": "86a1ab91-db5c-41a5-8d6a-ac6ba852568e"
   },
   "outputs": [],
   "source": []
  },
  {
   "cell_type": "markdown",
   "id": "118ef7a4-6c2e-4137-b573-ca8ee2d3976c",
   "metadata": {
    "id": "118ef7a4-6c2e-4137-b573-ca8ee2d3976c",
    "tags": []
   },
   "source": [
    "## Analysis of outliers"
   ]
  },
  {
   "cell_type": "markdown",
   "id": "7c82cfdc-d2ae-498c-8f8e-abfb051aa220",
   "metadata": {
    "id": "7c82cfdc-d2ae-498c-8f8e-abfb051aa220",
    "tags": []
   },
   "source": [
    "#### Outliers"
   ]
  },
  {
   "cell_type": "code",
   "execution_count": null,
   "id": "1a7709cf-b38b-4d8f-b5c0-c8aaee810a69",
   "metadata": {
    "executionInfo": {
     "elapsed": 13,
     "status": "ok",
     "timestamp": 1656427495957,
     "user": {
      "displayName": "Afzal Qureshi",
      "userId": "07647317251768315234"
     },
     "user_tz": -330
    },
    "id": "1a7709cf-b38b-4d8f-b5c0-c8aaee810a69"
   },
   "outputs": [],
   "source": [
    "# for col in df.columns:\n",
    "#     analysis_quant(df[col])"
   ]
  },
  {
   "cell_type": "markdown",
   "id": "f843327b-82ac-4c03-873d-6c34b2a26223",
   "metadata": {
    "id": "f843327b-82ac-4c03-873d-6c34b2a26223"
   },
   "source": [
    "## Model with outlier removal"
   ]
  },
  {
   "cell_type": "markdown",
   "id": "14675534-47c6-4d7e-8c35-46c2a81e2749",
   "metadata": {},
   "source": [
    "### extract probability method"
   ]
  },
  {
   "cell_type": "code",
   "execution_count": null,
   "id": "42f5d73f-677b-4ea2-91b8-0e7ed26cb8c6",
   "metadata": {
    "executionInfo": {
     "elapsed": 12,
     "status": "ok",
     "timestamp": 1656427495957,
     "user": {
      "displayName": "Afzal Qureshi",
      "userId": "07647317251768315234"
     },
     "user_tz": -330
    },
    "id": "42f5d73f-677b-4ea2-91b8-0e7ed26cb8c6"
   },
   "outputs": [],
   "source": [
    "pred_proba_df = pd.DataFrame(model.predict_proba(x_test))\n",
    "threshold_list = [0.05,0.1,0.15,0.2,0.25,0.3,0.35,0.4,0.45,0.5,0.55,0.6,0.65,.7,.75,.8,.85,.9,.95,.99]\n",
    "for i in threshold_list:\n",
    "    print ('\\n******** For i = {} ******'.format(i))\n",
    "    Y_test_pred = pred_proba_df.applymap(lambda x: 1 if x>i else 0)\n",
    "    test_accuracy = metrics.accuracy_score(Y_test.as_matrix().reshape(Y_test.as_matrix().size,1),\n",
    "                                           Y_test_pred.iloc[:,1].as_matrix().reshape(Y_test_pred.iloc[:,1].as_matrix().size,1))\n",
    "    print('Our testing accuracy is {}'.format(test_accuracy))\n",
    "\n",
    "    print(confusion_matrix(Y_test.as_matrix().reshape(Y_test.as_matrix().size,1),\n",
    "                           Y_test_pred.iloc[:,1].as_matrix().reshape(Y_test_pred.iloc[:,1].as_matrix().size,1)))"
   ]
  },
  {
   "cell_type": "markdown",
   "id": "ef3c0846-a07d-4695-9b8f-e2ec4a7ebc51",
   "metadata": {},
   "source": [
    "### plot auc roc method"
   ]
  },
  {
   "cell_type": "code",
   "execution_count": null,
   "id": "a51c7f90-d7a4-4bba-a45a-773a1fe4bfa1",
   "metadata": {},
   "outputs": [],
   "source": [
    "### Predict test_y values and probabilities based on fitted logistic regression model\n",
    "\n",
    "pred_y=log.predict(test_x) \n",
    "\n",
    "# probs_y is a 2-D array of probability of being labeled as 0 (first column of  array) vs 1 (2nd column in array)\n",
    "probs_y=log.predict_proba(test_x) \n",
    "\n",
    "from sklearn.metrics import precision_recall_curve\n",
    "precision, recall, thresholds = precision_recall_curve(test_y, probs_y[:,1]) \n",
    "\n",
    "#retrieve probability of being 1(in second column of probs_y)\n",
    "pr_auc = metrics.auc(recall, precision)\n",
    "\n",
    "plt.title(\"Precision-Recall vs Threshold Chart\")\n",
    "plt.plot(thresholds, precision[: -1], \"b--\", label=\"Precision\")\n",
    "plt.plot(thresholds, recall[: -1], \"r--\", label=\"Recall\")\n",
    "plt.ylabel(\"Precision, Recall\")\n",
    "plt.xlabel(\"Threshold\")\n",
    "plt.legend(loc=\"lower left\")\n",
    "plt.ylim([0,1])"
   ]
  }
 ],
 "metadata": {
  "colab": {
   "collapsed_sections": [
    "9628e296-a301-40d4-8cc3-65d5bad2d37f",
    "ae4c1511-ba6d-4fe7-b469-30b304ec9dee",
    "9a57bdba-79c9-4833-9ae5-3fc6970f9d83",
    "84b62bc4-5b0d-4973-beed-af3beb709fb4",
    "3e1d2e12-b918-4f96-b5fc-10bebb417c10",
    "dcd95da2-7007-45df-a961-8c5e2dd861f1",
    "791755d8-60ed-4e12-9df3-a5b952adb683",
    "309dad00-b74e-4c35-a0b4-9e3d9c0c32a7",
    "fa08455a-1382-4105-8aee-933d928cdcea",
    "7c82cfdc-d2ae-498c-8f8e-abfb051aa220"
   ],
   "name": "pima ALL by afzal.ipynb",
   "provenance": []
  },
  "kernelspec": {
   "display_name": "Python 3 (ipykernel)",
   "language": "python",
   "name": "python3"
  },
  "language_info": {
   "codemirror_mode": {
    "name": "ipython",
    "version": 3
   },
   "file_extension": ".py",
   "mimetype": "text/x-python",
   "name": "python",
   "nbconvert_exporter": "python",
   "pygments_lexer": "ipython3",
   "version": "3.10.0"
  }
 },
 "nbformat": 4,
 "nbformat_minor": 5
}
